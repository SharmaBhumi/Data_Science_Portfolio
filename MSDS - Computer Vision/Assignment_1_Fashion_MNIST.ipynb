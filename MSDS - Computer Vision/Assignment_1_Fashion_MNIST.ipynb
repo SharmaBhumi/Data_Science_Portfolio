{
  "nbformat": 4,
  "nbformat_minor": 0,
  "metadata": {
    "colab": {
      "name": "Assignment 1 - Fashion MNIST",
      "provenance": [],
      "collapsed_sections": [],
      "authorship_tag": "ABX9TyMKD7gJJvM3776OTUByKZaz",
      "include_colab_link": true
    },
    "kernelspec": {
      "name": "python3",
      "display_name": "Python 3"
    },
    "accelerator": "GPU"
  },
  "cells": [
    {
      "cell_type": "markdown",
      "metadata": {
        "id": "view-in-github",
        "colab_type": "text"
      },
      "source": [
        "<a href=\"https://colab.research.google.com/github/tiffduong/Data_Science_Portfolio/blob/master/MSDS%20-%20Computer%20Vision/Assignment_1_Fashion_MNIST.ipynb\" target=\"_parent\"><img src=\"https://colab.research.google.com/assets/colab-badge.svg\" alt=\"Open In Colab\"/></a>"
      ]
    },
    {
      "cell_type": "markdown",
      "metadata": {
        "id": "ky0v3Qqrqhex",
        "colab_type": "text"
      },
      "source": [
        "# **Assignment 1 - Classification Model with Fashion MNIST data**"
      ]
    },
    {
      "cell_type": "markdown",
      "metadata": {
        "id": "HKfR7X33KRFm",
        "colab_type": "text"
      },
      "source": [
        "# Data Set-Up and Preprocessing"
      ]
    },
    {
      "cell_type": "code",
      "metadata": {
        "id": "ZQbt2E4GqPJa",
        "colab_type": "code",
        "colab": {}
      },
      "source": [
        "# import dependencies\n",
        "import pandas as pd\n",
        "import numpy as np\n",
        "import matplotlib.pyplot as plt\n",
        "import tensorflow as tf\n",
        "from tensorflow import keras\n",
        "from keras.utils import to_categorical"
      ],
      "execution_count": 0,
      "outputs": []
    },
    {
      "cell_type": "code",
      "metadata": {
        "id": "ZShdgoderZMi",
        "colab_type": "code",
        "colab": {}
      },
      "source": [
        "# download fashion mnist data \n",
        "(X_train, y_train), (X_test, y_test) = keras.datasets.fashion_mnist.load_data()\n"
      ],
      "execution_count": 0,
      "outputs": []
    },
    {
      "cell_type": "code",
      "metadata": {
        "id": "j8DLZ8OQGcRk",
        "colab_type": "code",
        "outputId": "4902fc5a-40f4-4a95-8786-80566eaf9d81",
        "colab": {
          "base_uri": "https://localhost:8080/",
          "height": 51
        }
      },
      "source": [
        "print(\"Train Set Shape: {}\".format(X_train.shape))\n",
        "print(\"Test Set Shape: {}\".format(X_test.shape))"
      ],
      "execution_count": 26,
      "outputs": [
        {
          "output_type": "stream",
          "text": [
            "Train Set Shape: (60000, 28, 28)\n",
            "Test Set Shape: (10000, 28, 28)\n"
          ],
          "name": "stdout"
        }
      ]
    },
    {
      "cell_type": "code",
      "metadata": {
        "id": "Lt1_n5g3GwmG",
        "colab_type": "code",
        "outputId": "4ed0fb45-d1c5-427a-d1ca-d80af35e14b2",
        "colab": {
          "base_uri": "https://localhost:8080/",
          "height": 593
        }
      },
      "source": [
        "# plot first few images from the training set\n",
        "plt.figure(figsize=(10,10))\n",
        "for i in range(9):\n",
        "\t# define subplot\n",
        "\tplt.subplot(330 + 1 + i)\n",
        "\t# plot raw pixel data\n",
        "\tplt.imshow(X_train[i], cmap=plt.get_cmap('tab20b'))\n",
        "# show the figure\n",
        "plt.show()\n"
      ],
      "execution_count": 27,
      "outputs": [
        {
          "output_type": "display_data",
          "data": {
            "image/png": "[encoded data removed]",
            "text/plain": [
              "<Figure size 720x720 with 9 Axes>"
            ]
          },
          "metadata": {
            "tags": []
          }
        }
      ]
    },
    {
      "cell_type": "code",
      "metadata": {
        "id": "rVvd442yFQDd",
        "colab_type": "code",
        "colab": {}
      },
      "source": [
        "# preprocess data for model input\n",
        "X_train = X_train.reshape((-1, 28, 28, 1))\n",
        "X_test = X_test.reshape((-1, 28, 28, 1))\n",
        "\n",
        "y_train = to_categorical(y_train)\n",
        "y_test = to_categorical(y_test)\n",
        "\n",
        "# normalize data so pixel values in range [0,1]\n",
        "X_train = X_train / 255\n",
        "X_test = X_test / 255"
      ],
      "execution_count": 0,
      "outputs": []
    },
    {
      "cell_type": "markdown",
      "metadata": {
        "id": "ghECI9mVKXG0",
        "colab_type": "text"
      },
      "source": [
        "# Convolutional Neural Network Set-Up"
      ]
    },
    {
      "cell_type": "code",
      "metadata": {
        "id": "80pT6OstKh8m",
        "colab_type": "code",
        "colab": {}
      },
      "source": [
        "from keras.layers import Conv2D, MaxPool2D\n",
        "from keras.layers import Flatten, Dense, BatchNormalization\n",
        "from keras.models import Sequential\n",
        "\n",
        "def create_cnn1():\n",
        "  model = Sequential()\n",
        "\n",
        "  model.add(Conv2D(32, (3, 3), activation='relu', padding=\"same\", input_shape=(28,28, 1)))\n",
        "  model.add(BatchNormalization(axis=-1))\n",
        "\n",
        "  model.add(Conv2D(32, (3, 3), activation='relu', padding=\"same\"))\n",
        "  model.add(BatchNormalization(axis=-1))\n",
        "  model.add(MaxPool2D(pool_size=(2, 2)))\n",
        "\n",
        "  model.add(Conv2D(64, (3, 3), activation='relu', padding=\"same\"))\n",
        "  model.add(BatchNormalization(axis=-1))\n",
        "\n",
        "  model.add(Conv2D(64, (3, 3), activation='relu', padding=\"same\"))\n",
        "  model.add(BatchNormalization(axis=-1))\n",
        "  model.add(MaxPool2D(pool_size=(2, 2)))\n",
        "\n",
        "  model.add(Flatten())\n",
        "  model.add(Dense(128, activation='relu'))\n",
        "  model.add(Dense(10, activation='softmax'))\n",
        "\n",
        "  return model"
      ],
      "execution_count": 0,
      "outputs": []
    },
    {
      "cell_type": "code",
      "metadata": {
        "id": "ic6zgMo63r9E",
        "colab_type": "code",
        "colab": {
          "base_uri": "https://localhost:8080/",
          "height": 595
        },
        "outputId": "64a70e5e-6ee5-46fa-fa22-28a9eef5fbe4"
      },
      "source": [
        "# initialize and create a model summary\n",
        "cnn1 = create_cnn1()\n",
        "cnn1.summary()"
      ],
      "execution_count": 31,
      "outputs": [
        {
          "output_type": "stream",
          "text": [
            "Model: \"sequential_3\"\n",
            "_________________________________________________________________\n",
            "Layer (type)                 Output Shape              Param #   \n",
            "=================================================================\n",
            "conv2d_9 (Conv2D)            (None, 28, 28, 32)        320       \n",
            "_________________________________________________________________\n",
            "batch_normalization_9 (Batch (None, 28, 28, 32)        128       \n",
            "_________________________________________________________________\n",
            "conv2d_10 (Conv2D)           (None, 28, 28, 32)        9248      \n",
            "_________________________________________________________________\n",
            "batch_normalization_10 (Batc (None, 28, 28, 32)        128       \n",
            "_________________________________________________________________\n",
            "max_pooling2d_5 (MaxPooling2 (None, 14, 14, 32)        0         \n",
            "_________________________________________________________________\n",
            "conv2d_11 (Conv2D)           (None, 14, 14, 64)        18496     \n",
            "_________________________________________________________________\n",
            "batch_normalization_11 (Batc (None, 14, 14, 64)        256       \n",
            "_________________________________________________________________\n",
            "conv2d_12 (Conv2D)           (None, 14, 14, 64)        36928     \n",
            "_________________________________________________________________\n",
            "batch_normalization_12 (Batc (None, 14, 14, 64)        256       \n",
            "_________________________________________________________________\n",
            "max_pooling2d_6 (MaxPooling2 (None, 7, 7, 64)          0         \n",
            "_________________________________________________________________\n",
            "flatten_3 (Flatten)          (None, 3136)              0         \n",
            "_________________________________________________________________\n",
            "dense_5 (Dense)              (None, 128)               401536    \n",
            "_________________________________________________________________\n",
            "dense_6 (Dense)              (None, 10)                1290      \n",
            "=================================================================\n",
            "Total params: 468,586\n",
            "Trainable params: 468,202\n",
            "Non-trainable params: 384\n",
            "_________________________________________________________________\n"
          ],
          "name": "stdout"
        }
      ]
    },
    {
      "cell_type": "code",
      "metadata": {
        "id": "lbtxkCP64Isc",
        "colab_type": "code",
        "colab": {}
      },
      "source": [
        "from keras import optimizers\n",
        "\n",
        "# compile the model using adam's and categorical crossentropy\n",
        "# use accuracy as the metric to measure model performanc\n",
        "\n",
        "adam = optimizers.adam(lr=0.001)\n",
        "\n",
        "cnn1.compile(loss='categorical_crossentropy',optimizer=adam, metrics=['accuracy'])"
      ],
      "execution_count": 0,
      "outputs": []
    },
    {
      "cell_type": "code",
      "metadata": {
        "id": "xSoX7BEB6Ac6",
        "colab_type": "code",
        "colab": {
          "base_uri": "https://localhost:8080/",
          "height": 238
        },
        "outputId": "a52de81d-6100-4022-ae8c-7a1cf78857b4"
      },
      "source": [
        "from keras.callbacks import EarlyStopping\n",
        "\n",
        "callback = [EarlyStopping(monitor='val_loss', min_delta=0, \n",
        "                         patience=5, verbose=0, mode='auto', \n",
        "                         baseline=None, restore_best_weights=False)]\n",
        "\n",
        "#define the number of epochs and batch size\n",
        "epochs = 20\n",
        "batch = 64\n",
        "\n",
        "#fit the model\n",
        "model = cnn1.fit(X_train, y_train, epochs=epochs, batch_size=batch, callbacks=callback, verbose=1, validation_data=(X_test, y_test))\n"
      ],
      "execution_count": 65,
      "outputs": [
        {
          "output_type": "stream",
          "text": [
            "Train on 60000 samples, validate on 10000 samples\n",
            "Epoch 1/20\n",
            "60000/60000 [==============================] - 9s 153us/step - loss: 0.0222 - acc: 0.9920 - val_loss: 0.4263 - val_acc: 0.9225\n",
            "Epoch 2/20\n",
            "60000/60000 [==============================] - 9s 153us/step - loss: 0.0181 - acc: 0.9938 - val_loss: 0.4536 - val_acc: 0.9249\n",
            "Epoch 3/20\n",
            "60000/60000 [==============================] - 9s 155us/step - loss: 0.0198 - acc: 0.9932 - val_loss: 0.4586 - val_acc: 0.9227\n",
            "Epoch 4/20\n",
            "60000/60000 [==============================] - 9s 154us/step - loss: 0.0207 - acc: 0.9930 - val_loss: 0.4781 - val_acc: 0.9256\n",
            "Epoch 5/20\n",
            "60000/60000 [==============================] - 9s 153us/step - loss: 0.0147 - acc: 0.9947 - val_loss: 0.4466 - val_acc: 0.9257\n",
            "Epoch 6/20\n",
            "60000/60000 [==============================] - 9s 153us/step - loss: 0.0188 - acc: 0.9942 - val_loss: 0.4881 - val_acc: 0.9238\n"
          ],
          "name": "stdout"
        }
      ]
    },
    {
      "cell_type": "markdown",
      "metadata": {
        "id": "uIHsw8iRKIsi",
        "colab_type": "text"
      },
      "source": [
        "# Model Evaluation"
      ]
    },
    {
      "cell_type": "code",
      "metadata": {
        "id": "NJ0gYKzhGKEP",
        "colab_type": "code",
        "colab": {
          "base_uri": "https://localhost:8080/",
          "height": 51
        },
        "outputId": "2d6721f7-2d70-48f7-84f2-594c02aacc40"
      },
      "source": [
        "evaluate = cnn1.evaluate(X_test, y_test, verbose=1)\n",
        "\n",
        "print(\"Model Validation Accuracy: {} %\".format((round(evaluate[1], 4) * 100)))"
      ],
      "execution_count": 66,
      "outputs": [
        {
          "output_type": "stream",
          "text": [
            "10000/10000 [==============================] - 1s 77us/step\n",
            "Model Validation Accuracy: 92.38 %\n"
          ],
          "name": "stdout"
        }
      ]
    },
    {
      "cell_type": "code",
      "metadata": {
        "id": "OQj8aapFJe8W",
        "colab_type": "code",
        "colab": {
          "base_uri": "https://localhost:8080/",
          "height": 404
        },
        "outputId": "b9f242ec-1342-4b50-a58c-dcb0726caba4"
      },
      "source": [
        "#graph model accuracy\n",
        "plt.figure(figsize=(10,6))\n",
        "plt.plot(model.history['acc'])\n",
        "plt.plot(model.history['val_acc'])\n",
        "plt.title('Model Accuracy')\n",
        "plt.ylabel('Accuracy')\n",
        "plt.xlabel('Epoch')\n",
        "plt.legend(['Train', 'Test'], loc='upper left')\n",
        "plt.show()"
      ],
      "execution_count": 71,
      "outputs": [
        {
          "output_type": "display_data",
          "data": {
            "image/png": "[encoded data removed]",
            "text/plain": [
              "<Figure size 720x432 with 1 Axes>"
            ]
          },
          "metadata": {
            "tags": []
          }
        }
      ]
    },
    {
      "cell_type": "code",
      "metadata": {
        "id": "OtyksO6kTlCg",
        "colab_type": "code",
        "colab": {
          "base_uri": "https://localhost:8080/",
          "height": 404
        },
        "outputId": "2f8aaa4e-d200-4257-c0b8-e2454ee9633f"
      },
      "source": [
        "# graph model loss\n",
        "plt.figure(figsize=(10,6))\n",
        "plt.plot(model.history['loss'])\n",
        "plt.plot(model.history['val_loss'])\n",
        "plt.title('Model Loss')\n",
        "plt.ylabel('Loss')\n",
        "plt.xlabel('Epoch')\n",
        "plt.legend(['Train', 'Test'], loc='upper left')\n",
        "plt.show()"
      ],
      "execution_count": 70,
      "outputs": [
        {
          "output_type": "display_data",
          "data": {
            "image/png": "[encoded data removed]",
            "text/plain": [
              "<Figure size 720x432 with 1 Axes>"
            ]
          },
          "metadata": {
            "tags": []
          }
        }
      ]
    }
  ]
}