{
 "cells": [
  {
   "cell_type": "markdown",
   "metadata": {},
   "source": [
    "# Set-Up"
   ]
  },
  {
   "cell_type": "code",
   "execution_count": 3,
   "metadata": {},
   "outputs": [],
   "source": [
    "#import base packages\n",
    "from matplotlib import pyplot as plt\n",
    "import cv2\n",
    "import os\n",
    "from glob import glob\n",
    "import numpy as np\n",
    "import pandas as pd\n",
    "import seaborn as sns\n",
    "import time\n",
    "import tensorflow as tf\n",
    "\n",
    "# make graphs pretty in ipynb notebooks\n",
    "#%matplotlib inline\n",
    "\n",
    "RANDOM_SEED = 9999\n",
    "\n",
    "# ignore warnings\n",
    "from sklearn.exceptions import DataConversionWarning\n",
    "import warnings\n",
    "\n",
    "warnings.filterwarnings(\"ignore\", category=np.VisibleDeprecationWarning)\n",
    "warnings.filterwarnings(\"ignore\", category=FutureWarning)\n",
    "warnings.filterwarnings('ignore', category=DataConversionWarning)\n",
    "warnings.simplefilter(\"ignore\", category=PendingDeprecationWarning)\n",
    "warnings.simplefilter('ignore', category=DeprecationWarning)"
   ]
  },
  {
   "cell_type": "markdown",
   "metadata": {},
   "source": [
    "# Exploratory Data Analysis"
   ]
  },
  {
   "cell_type": "code",
   "execution_count": 4,
   "metadata": {},
   "outputs": [
    {
     "data": {
      "text/html": [
       "<div>\n",
       "<style scoped>\n",
       "    .dataframe tbody tr th:only-of-type {\n",
       "        vertical-align: middle;\n",
       "    }\n",
       "\n",
       "    .dataframe tbody tr th {\n",
       "        vertical-align: top;\n",
       "    }\n",
       "\n",
       "    .dataframe thead th {\n",
       "        text-align: right;\n",
       "    }\n",
       "</style>\n",
       "<table border=\"1\" class=\"dataframe\">\n",
       "  <thead>\n",
       "    <tr style=\"text-align: right;\">\n",
       "      <th></th>\n",
       "      <th>subject</th>\n",
       "      <th>classname</th>\n",
       "      <th>img</th>\n",
       "    </tr>\n",
       "  </thead>\n",
       "  <tbody>\n",
       "    <tr>\n",
       "      <th>0</th>\n",
       "      <td>p002</td>\n",
       "      <td>c0</td>\n",
       "      <td>img_44733.jpg</td>\n",
       "    </tr>\n",
       "    <tr>\n",
       "      <th>1</th>\n",
       "      <td>p002</td>\n",
       "      <td>c0</td>\n",
       "      <td>img_72999.jpg</td>\n",
       "    </tr>\n",
       "    <tr>\n",
       "      <th>2</th>\n",
       "      <td>p002</td>\n",
       "      <td>c0</td>\n",
       "      <td>img_25094.jpg</td>\n",
       "    </tr>\n",
       "    <tr>\n",
       "      <th>3</th>\n",
       "      <td>p002</td>\n",
       "      <td>c0</td>\n",
       "      <td>img_69092.jpg</td>\n",
       "    </tr>\n",
       "    <tr>\n",
       "      <th>4</th>\n",
       "      <td>p002</td>\n",
       "      <td>c0</td>\n",
       "      <td>img_92629.jpg</td>\n",
       "    </tr>\n",
       "  </tbody>\n",
       "</table>\n",
       "</div>"
      ],
      "text/plain": [
       "  subject classname            img\n",
       "0    p002        c0  img_44733.jpg\n",
       "1    p002        c0  img_72999.jpg\n",
       "2    p002        c0  img_25094.jpg\n",
       "3    p002        c0  img_69092.jpg\n",
       "4    p002        c0  img_92629.jpg"
      ]
     },
     "execution_count": 4,
     "metadata": {},
     "output_type": "execute_result"
    }
   ],
   "source": [
    "# first explore the CSV files included with the image directory\n",
    "samples = pd.read_csv('driver_imgs_list.csv')\n",
    "samples.head()"
   ]
  },
  {
   "cell_type": "code",
   "execution_count": 5,
   "metadata": {},
   "outputs": [
    {
     "name": "stdout",
     "output_type": "stream",
     "text": [
      "Training Dataset Samples: 22424\n",
      "Number of Classes: 10\n"
     ]
    }
   ],
   "source": [
    "# see how many samples are included\n",
    "print('Training Dataset Samples: {}'.format(samples.shape[0]))\n",
    "\n",
    "# see number of classes\n",
    "print('Number of Classes: {}' .format(len((samples['classname']).unique())))"
   ]
  },
  {
   "cell_type": "code",
   "execution_count": 6,
   "metadata": {},
   "outputs": [],
   "source": [
    "# set key for classes with the associated distracted behavior\n",
    "classes = {'c0': 'Safe Driving', 'c1': 'Texting - Right', 'c2': 'Talking on the Phone - Right',\n",
    "          'c3': 'Texting - Left', 'c4': 'Talking on the Phone - Left', 'c5': 'Operating The Radio',\n",
    "          'c6': 'Drinking', 'c7': 'Reaching Behind', 'c8': 'Hair and Makeup',\n",
    "          'c9': 'Talkinng to Passenger'}"
   ]
  },
  {
   "cell_type": "code",
   "execution_count": 7,
   "metadata": {},
   "outputs": [
    {
     "data": {
      "text/plain": [
       "Hair and Makeup                 1911\n",
       "Reaching Behind                 2002\n",
       "Talkinng to Passenger           2129\n",
       "Texting - Right                 2267\n",
       "Operating The Radio             2312\n",
       "Talking on the Phone - Right    2317\n",
       "Drinking                        2325\n",
       "Talking on the Phone - Left     2326\n",
       "Texting - Left                  2346\n",
       "Safe Driving                    2489\n",
       "Name: classname, dtype: int64"
      ]
     },
     "execution_count": 7,
     "metadata": {},
     "output_type": "execute_result"
    }
   ],
   "source": [
    "# see samples per class\n",
    "samples_with_classes = samples.replace({'classname': classes})\n",
    "class_count = samples_with_classes['classname'].value_counts().sort_values(ascending=True)\n",
    "class_count"
   ]
  },
  {
   "cell_type": "code",
   "execution_count": 8,
   "metadata": {},
   "outputs": [
    {
     "data": {
      "text/plain": [
       "<matplotlib.axes._subplots.AxesSubplot at 0x7f2d4b2d93c8>"
      ]
     },
     "execution_count": 8,
     "metadata": {},
     "output_type": "execute_result"
    },
    {
     "data": {
      "image/png": "[encoded data removed]",
      "text/plain": [
       "<Figure size 936x720 with 1 Axes>"
      ]
     },
     "metadata": {
      "needs_background": "light"
     },
     "output_type": "display_data"
    }
   ],
   "source": [
    "plt.figure(figsize=(13,10))\n",
    "plt.title('Classes by Image Count', size=18)\n",
    "\n",
    "class_count.plot.barh()"
   ]
  },
  {
   "cell_type": "markdown",
   "metadata": {},
   "source": [
    "# Data Preparation"
   ]
  },
  {
   "cell_type": "code",
   "execution_count": 176,
   "metadata": {},
   "outputs": [
    {
     "name": "stdout",
     "output_type": "stream",
     "text": [
      "True\n"
     ]
    }
   ],
   "source": [
    "# define function to load the data\n",
    "from sklearn.datasets import load_files\n",
    "from keras.utils import np_utils\n",
    "\n",
    "def load_train_data(path):\n",
    "    dataset = load_files(path)\n",
    "    file = np.array(dataset['filenames'])\n",
    "    target = np_utils.to_categorical(np.array(dataset['target']),11)\n",
    "    return file, target\n",
    "\n",
    "#load train, test, and validation datasets from directory using load_data\n",
    "# train_path = os.walk('imgs', 'train')\n",
    "train_path = os.path.join('/mnt/N0360809/imgs', 'train')\n",
    "print(os.path.exists(train_path))\n",
    "train_img, train_target = load_train_data(train_path)\n",
    "\n",
    "# load list of labels (classes)\n",
    "labels = [item[11:13] for item in sorted(glob(\"/mnt/N0360809/imgs/train/*/\"))]"
   ]
  },
  {
   "cell_type": "code",
   "execution_count": 11,
   "metadata": {},
   "outputs": [],
   "source": [
    "# split into train/validation sets using a 80:20 split\n",
    "from sklearn.model_selection import train_test_split\n",
    "\n",
    "train, validation, train_targets, validation_targets = train_test_split(\n",
    "    train_img, train_target, test_size=0.2, random_state=RANDOM_SEED)"
   ]
  },
  {
   "cell_type": "code",
   "execution_count": 177,
   "metadata": {},
   "outputs": [
    {
     "name": "stdout",
     "output_type": "stream",
     "text": [
      "Total images in Train Set: 17938\n",
      "Total images in Validation Set: 4485\n"
     ]
    }
   ],
   "source": [
    "# view the shape of the sets\n",
    "print('Total images in Train Set: {}' .format(len(train)))\n",
    "print('Total images in Validation Set: {}' .format(len(validation)))"
   ]
  },
  {
   "cell_type": "markdown",
   "metadata": {},
   "source": [
    "# Data Preprocessing"
   ]
  },
  {
   "cell_type": "code",
   "execution_count": 13,
   "metadata": {},
   "outputs": [],
   "source": [
    "# define function to load images and converts them into 4D tensors\n",
    "import PIL\n",
    "from keras.preprocessing import image\n",
    "from tqdm import tqdm\n",
    "\n",
    "\n",
    "def load_img_to_tensor(path):\n",
    "    # load RGB image using PIL and resizes to 224x224 (original input to VGG16)\n",
    "    imgs = image.load_img(path, target_size=(224, 224))\n",
    "    # convert image to an array\n",
    "    x = image.img_to_array(imgs)\n",
    "    # convert array into 4D tensor (1, 224, 224, 3) to load into CNN\n",
    " #   return np.expand_dims(x, axis=0)\n",
    "    return np.expand_dims(x, axis=0)\n",
    "\n",
    "# define function to convert array into 4D tensor with shape (samples, 224, 224, 3)\n",
    "def load_arrays_to_tensor(paths):\n",
    "    list_of_tensors = [load_img_to_tensor(path) for path in tqdm(paths)]\n",
    "    return np.vstack(list_of_tensors)"
   ]
  },
  {
   "cell_type": "code",
   "execution_count": 14,
   "metadata": {},
   "outputs": [
    {
     "name": "stdout",
     "output_type": "stream",
     "text": [
      "Data Type: uint8\n",
      "Min: 0.000, Max: 255.000\n"
     ]
    }
   ],
   "source": [
    "# Data Normalization\n",
    "\n",
    "# first verify image pixel range is 0-255\n",
    "from numpy import asarray\n",
    "from PIL import Image as PIL_Image\n",
    "\n",
    "imagepath = os.path.join('/mnt/N0360809/imgs', 'train', 'c0', 'img_34.jpg')\n",
    "test_image = PIL_Image.open(imagepath)\n",
    "pixels = asarray(test_image)\n",
    "\n",
    "print('Data Type: %s' % pixels.dtype)\n",
    "print('Min: %.3f, Max: %.3f' % (pixels.min(), pixels.max()))"
   ]
  },
  {
   "cell_type": "code",
   "execution_count": 15,
   "metadata": {},
   "outputs": [
    {
     "name": "stderr",
     "output_type": "stream",
     "text": [
      "100%|██████████| 17938/17938 [01:06<00:00, 268.02it/s]\n",
      "100%|██████████| 4485/4485 [00:15<00:00, 283.46it/s]\n",
      "100%|██████████| 15274/15274 [00:54<00:00, 281.14it/s]\n"
     ]
    }
   ],
   "source": [
    "# next normalize data to pixel range of 0-1\n",
    "from PIL import ImageFile    \n",
    "\n",
    "train_tensor = load_arrays_to_tensor(train).astype('float32')/255 \n",
    "valid_tensor = load_arrays_to_tensor(validation).astype('float32')/255"
   ]
  },
  {
   "cell_type": "markdown",
   "metadata": {},
   "source": [
    "# Model Set-Up"
   ]
  },
  {
   "cell_type": "markdown",
   "metadata": {},
   "source": [
    "## Model: LeNet-5 Network (from scratch)"
   ]
  },
  {
   "cell_type": "markdown",
   "metadata": {},
   "source": [
    "We will train a the data based on Yann Lecun's LeNet-5 model that was originally used to identify handwritten digits for zipcode recognition."
   ]
  },
  {
   "cell_type": "code",
   "execution_count": 16,
   "metadata": {},
   "outputs": [],
   "source": [
    "from keras.layers import Conv2D, MaxPool2D, AveragePooling2D\n",
    "from keras.layers import Flatten, Dense\n",
    "from keras.models import Sequential\n",
    "def create_lenet5():\n",
    "    model = Sequential()\n",
    "\n",
    "    model.add(Conv2D(filters=6, kernel_size=(3, 3), activation='relu', input_shape=(224,224,3)))\n",
    "    model.add(AveragePooling2D())\n",
    "\n",
    "    model.add(Conv2D(filters=16, kernel_size=(3, 3), activation='relu'))\n",
    "    model.add(AveragePooling2D())\n",
    "\n",
    "    model.add(Flatten())\n",
    "\n",
    "    model.add(Dense(units=120, activation='relu'))\n",
    "\n",
    "    model.add(Dense(units=84, activation='relu'))\n",
    "\n",
    "    model.add(Dense(units=11, activation = 'softmax'))\n",
    "\n",
    "    return model"
   ]
  },
  {
   "cell_type": "code",
   "execution_count": 178,
   "metadata": {},
   "outputs": [
    {
     "name": "stdout",
     "output_type": "stream",
     "text": [
      "----------Summary of LeNet-5 Architecture:----------\n",
      "Model: \"sequential_5\"\n",
      "_________________________________________________________________\n",
      "Layer (type)                 Output Shape              Param #   \n",
      "=================================================================\n",
      "conv2d_29 (Conv2D)           (None, 222, 222, 6)       168       \n",
      "_________________________________________________________________\n",
      "average_pooling2d_3 (Average (None, 111, 111, 6)       0         \n",
      "_________________________________________________________________\n",
      "conv2d_30 (Conv2D)           (None, 109, 109, 16)      880       \n",
      "_________________________________________________________________\n",
      "average_pooling2d_4 (Average (None, 54, 54, 16)        0         \n",
      "_________________________________________________________________\n",
      "flatten_38 (Flatten)         (None, 46656)             0         \n",
      "_________________________________________________________________\n",
      "dense_124 (Dense)            (None, 120)               5598840   \n",
      "_________________________________________________________________\n",
      "dense_125 (Dense)            (None, 84)                10164     \n",
      "_________________________________________________________________\n",
      "dense_126 (Dense)            (None, 11)                935       \n",
      "=================================================================\n",
      "Total params: 5,610,987\n",
      "Trainable params: 5,610,987\n",
      "Non-trainable params: 0\n",
      "_________________________________________________________________\n"
     ]
    }
   ],
   "source": [
    "# view LeNet-5 architecture summary\n",
    "lenet5 = create_lenet5()\n",
    "print(\"----------Summary of LeNet-5 Architecture:----------\")\n",
    "lenet5.summary()"
   ]
  },
  {
   "cell_type": "code",
   "execution_count": 167,
   "metadata": {},
   "outputs": [],
   "source": [
    "from keras import optimizers\n",
    "# compile the model using adam's and categorical crossentropy\n",
    "# use accuracy as the metric to measure model performance\n",
    "adam = optimizers.adam(lr=0.0001)\n",
    "\n",
    "lenet5.compile(loss='categorical_crossentropy',optimizer=adam,\n",
    "              metrics=['accuracy'])"
   ]
  },
  {
   "cell_type": "markdown",
   "metadata": {},
   "source": [
    "## Train LeNet-5"
   ]
  },
  {
   "cell_type": "markdown",
   "metadata": {},
   "source": [
    "We will now train the model using early stopping, where the model will stop training after the model stops improving"
   ]
  },
  {
   "cell_type": "code",
   "execution_count": 168,
   "metadata": {},
   "outputs": [
    {
     "name": "stdout",
     "output_type": "stream",
     "text": [
      "Train on 17938 samples, validate on 4485 samples\n",
      "Epoch 1/20\n",
      "17938/17938 [==============================] - 58s 3ms/step - loss: 0.0513 - accuracy: 0.9866 - val_loss: 0.0474 - val_accuracy: 0.9895\n",
      "Epoch 2/20\n",
      "17938/17938 [==============================] - 59s 3ms/step - loss: 0.0209 - accuracy: 0.9950 - val_loss: 0.0337 - val_accuracy: 0.9931\n",
      "Epoch 3/20\n",
      "17938/17938 [==============================] - 58s 3ms/step - loss: 0.0073 - accuracy: 0.9987 - val_loss: 0.0400 - val_accuracy: 0.9904\n"
     ]
    }
   ],
   "source": [
    "from keras.callbacks import EarlyStopping\n",
    "\n",
    "callback = [EarlyStopping(monitor='val_loss', min_delta=0, \n",
    "                         patience=0, verbose=0, mode='auto', \n",
    "                         baseline=None, restore_best_weights=False)]\n",
    "\n",
    "#define the number of epochs and batch size\n",
    "epochs = 20\n",
    "batch = 64\n",
    "\n",
    "#initialize timer\n",
    "start_time1 = time.clock()\n",
    "\n",
    "#fit the model\n",
    "lenet5.fit(train_tensor, train_targets, \n",
    "          validation_data=(valid_tensor, validation_targets),\n",
    "          epochs=epochs, batch_size=batch, callbacks=callback, verbose=1)\n",
    "\n",
    "#end timer\n",
    "end_time1 = time.clock()\n",
    "\n",
    "#save time\n",
    "lenet5_time = end_time1 - start_time1"
   ]
  },
  {
   "cell_type": "code",
   "execution_count": 169,
   "metadata": {},
   "outputs": [
    {
     "name": "stdout",
     "output_type": "stream",
     "text": [
      "LeNet5 training took: 4240.348712000065 seconds\n"
     ]
    }
   ],
   "source": [
    "print(\"LeNet5 training took: {} seconds\".format(lenet5_time))"
   ]
  },
  {
   "cell_type": "code",
   "execution_count": 170,
   "metadata": {},
   "outputs": [
    {
     "name": "stdout",
     "output_type": "stream",
     "text": [
      "17938/17938 [==============================] - 17s 959us/step\n"
     ]
    }
   ],
   "source": [
    "scores = lenet5.evaluate(train_tensor, train_targets, verbose=1)"
   ]
  },
  {
   "cell_type": "code",
   "execution_count": 171,
   "metadata": {},
   "outputs": [
    {
     "name": "stdout",
     "output_type": "stream",
     "text": [
      "LeNet-5 Model accuracy: 99.8%\n"
     ]
    }
   ],
   "source": [
    "print('LeNet-5 Model {}: {}%'.format(lenet5.metrics_names[1], round(scores[1]*100,2)))"
   ]
  },
  {
   "cell_type": "markdown",
   "metadata": {},
   "source": [
    "## Transfer Learning: VGG16 Network"
   ]
  },
  {
   "cell_type": "markdown",
   "metadata": {},
   "source": [
    "Next we will train the data based on the original VGG16 architecture implemented by Karen Simonyan and Andrew Zisserman where they investigated CNN performance with large-scale image recognition settings. (view [paper](https://arxiv.org/pdf/1409.1556.pdf) here)"
   ]
  },
  {
   "cell_type": "code",
   "execution_count": 132,
   "metadata": {},
   "outputs": [
    {
     "name": "stdout",
     "output_type": "stream",
     "text": [
      "Model: \"vgg16\"\n",
      "_________________________________________________________________\n",
      "Layer (type)                 Output Shape              Param #   \n",
      "=================================================================\n",
      "input_21 (InputLayer)        (None, 224, 224, 3)       0         \n",
      "_________________________________________________________________\n",
      "block1_conv1 (Conv2D)        (None, 224, 224, 64)      1792      \n",
      "_________________________________________________________________\n",
      "block1_conv2 (Conv2D)        (None, 224, 224, 64)      36928     \n",
      "_________________________________________________________________\n",
      "block1_pool (MaxPooling2D)   (None, 112, 112, 64)      0         \n",
      "_________________________________________________________________\n",
      "block2_conv1 (Conv2D)        (None, 112, 112, 128)     73856     \n",
      "_________________________________________________________________\n",
      "block2_conv2 (Conv2D)        (None, 112, 112, 128)     147584    \n",
      "_________________________________________________________________\n",
      "block2_pool (MaxPooling2D)   (None, 56, 56, 128)       0         \n",
      "_________________________________________________________________\n",
      "block3_conv1 (Conv2D)        (None, 56, 56, 256)       295168    \n",
      "_________________________________________________________________\n",
      "block3_conv2 (Conv2D)        (None, 56, 56, 256)       590080    \n",
      "_________________________________________________________________\n",
      "block3_conv3 (Conv2D)        (None, 56, 56, 256)       590080    \n",
      "_________________________________________________________________\n",
      "block3_pool (MaxPooling2D)   (None, 28, 28, 256)       0         \n",
      "_________________________________________________________________\n",
      "block4_conv1 (Conv2D)        (None, 28, 28, 512)       1180160   \n",
      "_________________________________________________________________\n",
      "block4_conv2 (Conv2D)        (None, 28, 28, 512)       2359808   \n",
      "_________________________________________________________________\n",
      "block4_conv3 (Conv2D)        (None, 28, 28, 512)       2359808   \n",
      "_________________________________________________________________\n",
      "block4_pool (MaxPooling2D)   (None, 14, 14, 512)       0         \n",
      "_________________________________________________________________\n",
      "block5_conv1 (Conv2D)        (None, 14, 14, 512)       2359808   \n",
      "_________________________________________________________________\n",
      "block5_conv2 (Conv2D)        (None, 14, 14, 512)       2359808   \n",
      "_________________________________________________________________\n",
      "block5_conv3 (Conv2D)        (None, 14, 14, 512)       2359808   \n",
      "_________________________________________________________________\n",
      "block5_pool (MaxPooling2D)   (None, 7, 7, 512)         0         \n",
      "=================================================================\n",
      "Total params: 14,714,688\n",
      "Trainable params: 14,714,688\n",
      "Non-trainable params: 0\n",
      "_________________________________________________________________\n"
     ]
    }
   ],
   "source": [
    "from keras.applications.vgg16 import VGG16\n",
    "# load VGG16 without the top layers\n",
    "vgg16 = VGG16(weights = \"imagenet\", include_top = False, input_shape = (224, 224, 3))\n",
    "\n",
    "# summarize the model\n",
    "vgg16.summary()"
   ]
  },
  {
   "cell_type": "code",
   "execution_count": 133,
   "metadata": {},
   "outputs": [],
   "source": [
    "from keras.models import Model    \n",
    "#Adding custom layers \n",
    "x = vgg16.output\n",
    "x = Flatten()(x)\n",
    "x = Dense(4096, activation=\"relu\")(x)\n",
    "x = Dense(4096, activation=\"relu\")(x)\n",
    "predictions = Dense(11, activation=\"softmax\")(x)\n",
    "\n",
    "vgg16_final = Model(inputs= vgg16.input, outputs= predictions)"
   ]
  },
  {
   "cell_type": "code",
   "execution_count": 134,
   "metadata": {},
   "outputs": [],
   "source": [
    "# Freeze first 15 layers to not be trained\n",
    "for layer in vgg16_final.layers[:15]:\n",
    "    layer.trainable=False\n",
    "for layer in vgg16_final.layers[15:]:\n",
    "    layer.trainable=True"
   ]
  },
  {
   "cell_type": "code",
   "execution_count": 135,
   "metadata": {},
   "outputs": [
    {
     "name": "stdout",
     "output_type": "stream",
     "text": [
      "0 input_21 False\n",
      "1 block1_conv1 False\n",
      "2 block1_conv2 False\n",
      "3 block1_pool False\n",
      "4 block2_conv1 False\n",
      "5 block2_conv2 False\n",
      "6 block2_pool False\n",
      "7 block3_conv1 False\n",
      "8 block3_conv2 False\n",
      "9 block3_conv3 False\n",
      "10 block3_pool False\n",
      "11 block4_conv1 False\n",
      "12 block4_conv2 False\n",
      "13 block4_conv3 False\n",
      "14 block4_pool False\n",
      "15 block5_conv1 True\n",
      "16 block5_conv2 True\n",
      "17 block5_conv3 True\n",
      "18 block5_pool True\n",
      "19 flatten_31 True\n",
      "20 dense_106 True\n",
      "21 dense_107 True\n",
      "22 dense_108 True\n"
     ]
    }
   ],
   "source": [
    "#List out all of the layers in the final model\n",
    "for i,layer in enumerate(vgg16_final.layers):\n",
    "    print(i,layer.name, layer.trainable)"
   ]
  },
  {
   "cell_type": "code",
   "execution_count": 136,
   "metadata": {},
   "outputs": [],
   "source": [
    "from keras import optimizers\n",
    "# compile the model using adam's and categorical crossentropy\n",
    "# use accuracy as the metric to measure model performance\n",
    "adam = optimizers.adam(lr=0.0001)\n",
    "\n",
    "vgg16_final.compile(loss='categorical_crossentropy',optimizer=adam,\n",
    "              metrics=['accuracy'])"
   ]
  },
  {
   "cell_type": "markdown",
   "metadata": {},
   "source": [
    "## Train VGG16"
   ]
  },
  {
   "cell_type": "markdown",
   "metadata": {},
   "source": [
    "We will now train the model using early stopping, where the model will stop training after the model stops improving"
   ]
  },
  {
   "cell_type": "code",
   "execution_count": 137,
   "metadata": {},
   "outputs": [
    {
     "name": "stdout",
     "output_type": "stream",
     "text": [
      "Train on 17938 samples, validate on 4485 samples\n",
      "Epoch 1/20\n",
      "17938/17938 [==============================] - 551s 31ms/step - loss: 0.4759 - accuracy: 0.8414 - val_loss: 0.0670 - val_accuracy: 0.9837\n",
      "Epoch 2/20\n",
      "17938/17938 [==============================] - 550s 31ms/step - loss: 0.0374 - accuracy: 0.9891 - val_loss: 0.0532 - val_accuracy: 0.9851\n",
      "Epoch 3/20\n",
      "17938/17938 [==============================] - 550s 31ms/step - loss: 0.0173 - accuracy: 0.9952 - val_loss: 0.0395 - val_accuracy: 0.9902\n",
      "Epoch 4/20\n",
      "17938/17938 [==============================] - 549s 31ms/step - loss: 0.0166 - accuracy: 0.9951 - val_loss: 0.0324 - val_accuracy: 0.9918\n",
      "Epoch 5/20\n",
      "17938/17938 [==============================] - 554s 31ms/step - loss: 0.0177 - accuracy: 0.9945 - val_loss: 0.0392 - val_accuracy: 0.9895\n"
     ]
    }
   ],
   "source": [
    "from keras.callbacks import EarlyStopping\n",
    "\n",
    "callback = [EarlyStopping(monitor='val_loss', min_delta=0, \n",
    "                         patience=0, verbose=0, mode='auto', \n",
    "                         baseline=None, restore_best_weights=False)]\n",
    "\n",
    "#define the number of epochs and batch size\n",
    "epochs = 20\n",
    "batch = 64\n",
    "\n",
    "# initialize timer\n",
    "start_time2 = time.clock()\n",
    "\n",
    "#fit the model\n",
    "vgg16_final.fit(train_tensor, train_targets, \n",
    "          validation_data=(valid_tensor, validation_targets),\n",
    "          epochs=epochs, batch_size=batch, callbacks=callback, verbose=1)\n",
    "\n",
    "#end timer\n",
    "end_time2 = time.clock()\n",
    "\n",
    "#save time\n",
    "vgg16_time = end_time2 - start_time2"
   ]
  },
  {
   "cell_type": "code",
   "execution_count": 138,
   "metadata": {},
   "outputs": [
    {
     "name": "stdout",
     "output_type": "stream",
     "text": [
      "VGG16 training took: 162585.23917699995 seconds\n"
     ]
    }
   ],
   "source": [
    "print(\"VGG16 training took: {} seconds\".format(vgg16_time))"
   ]
  },
  {
   "cell_type": "code",
   "execution_count": 139,
   "metadata": {},
   "outputs": [
    {
     "name": "stdout",
     "output_type": "stream",
     "text": [
      "17938/17938 [==============================] - 284s 16ms/step\n",
      "VGG16 Model accuracy: 99.62%\n"
     ]
    }
   ],
   "source": [
    "scores = vgg16_final.evaluate(train_tensor, train_targets, verbose=1)\n",
    "print('VGG16 Model {}: {}%'.format(vgg16_final.metrics_names[1], round(scores[1]*100,2)))"
   ]
  }
 ],
 "metadata": {
  "kernelspec": {
   "display_name": "Python 3",
   "language": "python",
   "name": "python3"
  },
  "language_info": {
   "codemirror_mode": {
    "name": "ipython",
    "version": 3
   },
   "file_extension": ".py",
   "mimetype": "text/x-python",
   "name": "python",
   "nbconvert_exporter": "python",
   "pygments_lexer": "ipython3",
   "version": "3.7.4"
  }
 },
 "nbformat": 4,
 "nbformat_minor": 4
}
