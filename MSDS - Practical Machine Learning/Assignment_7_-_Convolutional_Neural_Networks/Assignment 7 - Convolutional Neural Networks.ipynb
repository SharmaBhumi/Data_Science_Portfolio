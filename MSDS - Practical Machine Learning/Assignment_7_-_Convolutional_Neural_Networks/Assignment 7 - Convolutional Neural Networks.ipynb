{
 "cells": [
  {
   "cell_type": "markdown",
   "metadata": {},
   "source": [
    "# Set-Up"
   ]
  },
  {
   "cell_type": "code",
   "execution_count": 662,
   "metadata": {},
   "outputs": [],
   "source": [
    "from __future__ import division, print_function, unicode_literals\n",
    "from matplotlib import pyplot as plt\n",
    "import os\n",
    "import cv2\n",
    "import numpy as np\n",
    "import pandas as pd\n",
    "import tensorflow as tf\n",
    "import time\n",
    "import tflearn\n",
    "from tflearn.data_utils import shuffle, to_categorical\n",
    "from tflearn.layers.core import input_data, dropout, fully_connected\n",
    "from tflearn.layers.conv import conv_2d, max_pool_2d\n",
    "from tflearn.layers.estimator import regression\n",
    "from tflearn.data_preprocessing import ImagePreprocessing\n",
    "from tflearn.data_augmentation import ImageAugmentation\n",
    "from tflearn.metrics import Accuracy\n",
    "\n",
    "RANDOM_SEED = 9999\n",
    "\n",
    "# ignore warnings\n",
    "from sklearn.exceptions import DataConversionWarning\n",
    "import warnings\n",
    "\n",
    "warnings.filterwarnings(\"ignore\", category=np.VisibleDeprecationWarning)\n",
    "warnings.filterwarnings(\"ignore\", category=FutureWarning)\n",
    "warnings.filterwarnings('ignore', category=DataConversionWarning)\n",
    "warnings.simplefilter(\"ignore\", category=PendingDeprecationWarning)\n",
    "warnings.simplefilter('ignore', category=DeprecationWarning)\n",
    "\n",
    "# To make output stable across runs\n",
    "def reset_graph(seed= RANDOM_SEED):\n",
    "    tf.reset_default_graph()\n",
    "    tf.set_random_seed(seed)\n",
    "    np.random.seed(seed)"
   ]
  },
  {
   "cell_type": "markdown",
   "metadata": {},
   "source": [
    "# Data Preparation"
   ]
  },
  {
   "cell_type": "code",
   "execution_count": 685,
   "metadata": {},
   "outputs": [],
   "source": [
    "# set cats and dogs dimensions\n",
    "height = 64\n",
    "width = 64 \n",
    "\n",
    "# read in cats and dogs grayscale 64x64\n",
    "cats_1000_64_64_1 = np.load('cats_dogs_64-128/cats_1000_64_64_1.npy')\n",
    "dogs_1000_64_64_1 = np.load('cats_dogs_64-128/dogs_1000_64_64_1.npy')\n",
    "cats_1000_64_64_3 = np.load('cats_dogs_64-128/cats_1000_64_64_3.npy')\n",
    "dogs_1000_64_64_3 = np.load('cats_dogs_64-128/dogs_1000_64_64_3.npy')"
   ]
  },
  {
   "cell_type": "markdown",
   "metadata": {},
   "source": [
    "# Data Exploration"
   ]
  },
  {
   "cell_type": "code",
   "execution_count": 686,
   "metadata": {},
   "outputs": [
    {
     "data": {
      "image/png": "[encoded data removed]",
      "text/plain": [
       "<Figure size 432x288 with 1 Axes>"
      ]
     },
     "metadata": {
      "needs_background": "light"
     },
     "output_type": "display_data"
    },
    {
     "data": {
      "image/png": "[encoded data removed]",
      "text/plain": [
       "<Figure size 432x288 with 1 Axes>"
      ]
     },
     "metadata": {
      "needs_background": "light"
     },
     "output_type": "display_data"
    }
   ],
   "source": [
    "def show_grayscale_image(image):\n",
    "    plt.imshow(image, cmap='gray')\n",
    "    plt.axis('on')\n",
    "    plt.show()\n",
    "    \n",
    "# examine first cat and first dog grayscale images\n",
    "show_grayscale_image(cats_1000_64_64_1[0,:,:,0])\n",
    "show_grayscale_image(dogs_1000_64_64_1[0,:,:,0])"
   ]
  },
  {
   "cell_type": "code",
   "execution_count": 762,
   "metadata": {},
   "outputs": [],
   "source": [
    "# create a empty dataframe for results\n",
    "results = []\n",
    "results = pd.DataFrame(results)\n",
    "\n",
    "# empty list for training and testing accuracy, and runtime\n",
    "training_accuracy =[]\n",
    "test_accuracy =[]\n",
    "model_time =[]\n",
    "\n",
    "\n",
    "# set up column names\n",
    "col = ['Color', '# of Conv Layers', 'Time (in sec)', \n",
    "       'Training Accuracy', 'Test Accuracy']\n",
    "\n",
    "reset_graph()"
   ]
  },
  {
   "cell_type": "markdown",
   "metadata": {},
   "source": [
    "# Deep Neural Networks"
   ]
  },
  {
   "cell_type": "markdown",
   "metadata": {},
   "source": [
    "<b>Data Preparation</b>"
   ]
  },
  {
   "cell_type": "code",
   "execution_count": 763,
   "metadata": {},
   "outputs": [],
   "source": [
    "# Stack the numpy arrays for the inputs\n",
    "X_cat_dog = np.concatenate((cats_1000_64_64_1, dogs_1000_64_64_1), axis = 0) \n",
    "X_cat_dog = X_cat_dog.reshape(-1,width*height) # note coversion to 4096 inputs\n",
    "\n",
    "# Scikit Learn for min-max scaling of the data\n",
    "from sklearn.preprocessing import MinMaxScaler\n",
    "scaler = MinMaxScaler()\n",
    "scaler.fit(np.array([0., 255.]).reshape(-1,1))\n",
    "X_cat_dog_min_max = scaler.transform(X_cat_dog)\n",
    "\n",
    "# Define the labels to be used 1000 cats = 0 1000 dogs = 1\n",
    "y_cat_dog = np.concatenate((np.zeros((1000), dtype = np.int32), \n",
    "                      np.ones((1000), dtype = np.int32)), axis = 0)\n",
    "\n",
    "# Scikit Learn for random splitting of the data  \n",
    "from sklearn.model_selection import train_test_split\n",
    "\n",
    "# Random splitting of data  \n",
    "X_train, X_test, y_train, y_test = \\\n",
    "    train_test_split(X_cat_dog_min_max, y_cat_dog, test_size=0.20, \n",
    "                     random_state = RANDOM_SEED)\n",
    "\n",
    "X_train, X_val, y_train, y_val = \\\n",
    "    train_test_split(X_train, y_train, test_size=0.20, \n",
    "                     random_state=RANDOM_SEED)"
   ]
  },
  {
   "cell_type": "markdown",
   "metadata": {},
   "source": [
    "<b>Model A</b>"
   ]
  },
  {
   "cell_type": "markdown",
   "metadata": {},
   "source": [
    "2 hidden layers, 64x64 Grayscale images"
   ]
  },
  {
   "cell_type": "code",
   "execution_count": 764,
   "metadata": {},
   "outputs": [
    {
     "name": "stdout",
     "output_type": "stream",
     "text": [
      "0 Train accuracy: 0.58 Validation accuracy: 0.528125 Test accuracy: 0.535\n",
      "1 Train accuracy: 0.64 Validation accuracy: 0.546875 Test accuracy: 0.5425\n",
      "2 Train accuracy: 0.69 Validation accuracy: 0.553125 Test accuracy: 0.535\n",
      "3 Train accuracy: 0.68 Validation accuracy: 0.559375 Test accuracy: 0.545\n",
      "4 Train accuracy: 0.69 Validation accuracy: 0.55625 Test accuracy: 0.555\n",
      "5 Train accuracy: 0.73 Validation accuracy: 0.56875 Test accuracy: 0.56\n",
      "6 Train accuracy: 0.73 Validation accuracy: 0.58125 Test accuracy: 0.5625\n",
      "7 Train accuracy: 0.71 Validation accuracy: 0.584375 Test accuracy: 0.5525\n",
      "8 Train accuracy: 0.71 Validation accuracy: 0.5875 Test accuracy: 0.55\n",
      "9 Train accuracy: 0.74 Validation accuracy: 0.575 Test accuracy: 0.57\n",
      "10 Train accuracy: 0.74 Validation accuracy: 0.578125 Test accuracy: 0.5575\n",
      "11 Train accuracy: 0.75 Validation accuracy: 0.571875 Test accuracy: 0.555\n",
      "12 Train accuracy: 0.76 Validation accuracy: 0.575 Test accuracy: 0.5575\n",
      "13 Train accuracy: 0.78 Validation accuracy: 0.59375 Test accuracy: 0.555\n",
      "14 Train accuracy: 0.76 Validation accuracy: 0.590625 Test accuracy: 0.55\n",
      "15 Train accuracy: 0.8 Validation accuracy: 0.571875 Test accuracy: 0.56\n",
      "16 Train accuracy: 0.81 Validation accuracy: 0.5875 Test accuracy: 0.56\n",
      "17 Train accuracy: 0.8 Validation accuracy: 0.584375 Test accuracy: 0.5575\n",
      "18 Train accuracy: 0.83 Validation accuracy: 0.571875 Test accuracy: 0.56\n",
      "19 Train accuracy: 0.81 Validation accuracy: 0.56875 Test accuracy: 0.55\n",
      "20 Train accuracy: 0.83 Validation accuracy: 0.584375 Test accuracy: 0.56\n",
      "21 Train accuracy: 0.81 Validation accuracy: 0.58125 Test accuracy: 0.565\n",
      "22 Train accuracy: 0.82 Validation accuracy: 0.578125 Test accuracy: 0.5525\n",
      "23 Train accuracy: 0.79 Validation accuracy: 0.540625 Test accuracy: 0.565\n",
      "24 Train accuracy: 0.82 Validation accuracy: 0.58125 Test accuracy: 0.5525\n",
      "25 Train accuracy: 0.82 Validation accuracy: 0.546875 Test accuracy: 0.57\n",
      "26 Train accuracy: 0.83 Validation accuracy: 0.5875 Test accuracy: 0.56\n",
      "27 Train accuracy: 0.78 Validation accuracy: 0.540625 Test accuracy: 0.555\n",
      "28 Train accuracy: 0.61 Validation accuracy: 0.528125 Test accuracy: 0.545\n",
      "29 Train accuracy: 0.83 Validation accuracy: 0.578125 Test accuracy: 0.5775\n",
      "30 Train accuracy: 0.6 Validation accuracy: 0.51875 Test accuracy: 0.5375\n",
      "31 Train accuracy: 0.7 Validation accuracy: 0.54375 Test accuracy: 0.56\n",
      "32 Train accuracy: 0.6 Validation accuracy: 0.521875 Test accuracy: 0.55\n",
      "33 Train accuracy: 0.84 Validation accuracy: 0.58125 Test accuracy: 0.5725\n",
      "34 Train accuracy: 0.84 Validation accuracy: 0.56875 Test accuracy: 0.55\n",
      "35 Train accuracy: 0.86 Validation accuracy: 0.584375 Test accuracy: 0.575\n",
      "36 Train accuracy: 0.85 Validation accuracy: 0.596875 Test accuracy: 0.56\n",
      "37 Train accuracy: 0.86 Validation accuracy: 0.559375 Test accuracy: 0.555\n",
      "38 Train accuracy: 0.87 Validation accuracy: 0.58125 Test accuracy: 0.565\n",
      "39 Train accuracy: 0.87 Validation accuracy: 0.578125 Test accuracy: 0.56\n",
      "40 Train accuracy: 0.85 Validation accuracy: 0.60625 Test accuracy: 0.5675\n",
      "41 Train accuracy: 0.87 Validation accuracy: 0.59375 Test accuracy: 0.575\n",
      "42 Train accuracy: 0.87 Validation accuracy: 0.603125 Test accuracy: 0.56\n",
      "43 Train accuracy: 0.87 Validation accuracy: 0.6 Test accuracy: 0.5675\n",
      "44 Train accuracy: 0.79 Validation accuracy: 0.553125 Test accuracy: 0.5525\n",
      "45 Train accuracy: 0.62 Validation accuracy: 0.5375 Test accuracy: 0.555\n",
      "46 Train accuracy: 0.72 Validation accuracy: 0.54375 Test accuracy: 0.5525\n",
      "47 Train accuracy: 0.74 Validation accuracy: 0.5375 Test accuracy: 0.56\n",
      "48 Train accuracy: 0.73 Validation accuracy: 0.521875 Test accuracy: 0.545\n",
      "49 Train accuracy: 0.87 Validation accuracy: 0.590625 Test accuracy: 0.565\n"
     ]
    }
   ],
   "source": [
    "# 300 and 100 nodes for layers 1 and 2\n",
    "n_hidden1 = 300\n",
    "n_hidden2 = 100\n",
    "n_inputs = height * width\n",
    "n_epochs = 50\n",
    "batch_size = 100\n",
    "# binary classification for cats and dogs\n",
    "n_outputs = 2 \n",
    "\n",
    "reset_graph()\n",
    "\n",
    "# set placeholders\n",
    "X = tf.placeholder(tf.float32, shape=(None, n_inputs), name=\"X\")\n",
    "y = tf.placeholder(tf.int32, shape=(None), name=\"y\")\n",
    "\n",
    "def neuron_layer(X, n_neurons, name, activation=None):\n",
    "    with tf.name_scope(name):\n",
    "        n_inputs = int(X.get_shape()[1])\n",
    "        stddev = 2 / np.sqrt(n_inputs)\n",
    "        init = tf.truncated_normal((n_inputs, n_neurons), stddev=stddev)\n",
    "        W = tf.Variable(init, name=\"kernel\")\n",
    "        b = tf.Variable(tf.zeros([n_neurons]), name=\"bias\")\n",
    "        Z = tf.matmul(X, W) + b\n",
    "        if activation is not None:\n",
    "            return activation(Z)\n",
    "        else:\n",
    "            return Z\n",
    "\n",
    "with tf.name_scope(\"dnn\"):\n",
    "    hidden1 = neuron_layer(X, n_hidden1, name=\"hidden1\",\n",
    "                           activation=tf.nn.relu)\n",
    "    hidden2 = neuron_layer(hidden1, n_hidden2, name=\"hidden2\",\n",
    "                           activation=tf.nn.relu)\n",
    "    logits = neuron_layer(hidden2, n_outputs, name=\"outputs\")\n",
    "\n",
    "with tf.name_scope(\"loss\"):\n",
    "    xentropy = tf.nn.sparse_softmax_cross_entropy_with_logits(labels=y,\n",
    "                                                              logits=logits)\n",
    "    loss = tf.reduce_mean(xentropy, name=\"loss\")\n",
    "\n",
    "learning_rate = 0.01\n",
    "\n",
    "with tf.name_scope(\"train\"):\n",
    "    optimizer = tf.train.GradientDescentOptimizer(learning_rate)\n",
    "    training_op = optimizer.minimize(loss)\n",
    "    \n",
    "with tf.name_scope(\"eval\"):\n",
    "    correct = tf.nn.in_top_k(logits, y, 1)\n",
    "    accuracy = tf.reduce_mean(tf.cast(correct, tf.float32))    \n",
    "\n",
    "init = tf.global_variables_initializer()\n",
    "saver = tf.train.Saver() \n",
    "\n",
    "with tf.Session() as sess:\n",
    "    init.run()\n",
    "    \n",
    "    #initialize time\n",
    "    start_time = time.clock()\n",
    "    \n",
    "    for epoch in range(n_epochs):\n",
    "        for iteration in range(y_train.shape[0] // batch_size):\n",
    "            X_batch = X_train[iteration*batch_size:(iteration + 1)*batch_size,:]\n",
    "            y_batch = y_train[iteration*batch_size:(iteration + 1)*batch_size]\n",
    "            sess.run(training_op, feed_dict={X: X_batch, y: y_batch})\n",
    "        acc_train = accuracy.eval(feed_dict={X: X_batch, y: y_batch})\n",
    "        acc_val = accuracy.eval(feed_dict={X: X_val, y: y_val})\n",
    "        acc_test = accuracy.eval(feed_dict={X: X_test, y: y_test})\n",
    "        print(epoch, \"Train accuracy:\", acc_train, \"Validation accuracy:\", \n",
    "              acc_val, \"Test accuracy:\", acc_test)\n",
    "    \n",
    "    a_train = acc_train\n",
    "    a_val = acc_val\n",
    "    a_test = acc_test\n",
    "    training_accuracy.append(a_train)\n",
    "    val_accuracy.append(a_val)\n",
    "    test_accuracy.append(a_test)\n",
    "    \n",
    "     #End Time\n",
    "    end_time = time.clock()\n",
    "\n",
    "    a_time = end_time - start_time\n",
    "    \n",
    "    #append the results to the list\n",
    "    model_time.append(a_time)"
   ]
  },
  {
   "cell_type": "code",
   "execution_count": 765,
   "metadata": {},
   "outputs": [
    {
     "name": "stdout",
     "output_type": "stream",
     "text": [
      "Baseline Results:------------------------\n",
      "Train Accuracy: 0.8700000047683716\n",
      "Validation Accuracy: 0.590624988079071\n",
      "Test Accuracy: 0.5649999976158142\n"
     ]
    }
   ],
   "source": [
    "print(\"Baseline Results:------------------------\")\n",
    "print(\"Train Accuracy: {}\\nValidation Accuracy: {}\\nTest Accuracy: {}\".format(a_train, a_val, a_test))"
   ]
  },
  {
   "cell_type": "markdown",
   "metadata": {},
   "source": [
    "<b>Model B</b>"
   ]
  },
  {
   "cell_type": "markdown",
   "metadata": {},
   "source": [
    "2 hidden layers, 64x64 RGB images"
   ]
  },
  {
   "cell_type": "markdown",
   "metadata": {},
   "source": [
    "<b>Data Preparation for RGB Images</b>"
   ]
  },
  {
   "cell_type": "code",
   "execution_count": 766,
   "metadata": {},
   "outputs": [],
   "source": [
    "# Stack the numpy arrays for the inputs\n",
    "X_cat_dog1 = np.concatenate((cats_1000_64_64_3, dogs_1000_64_64_3), axis = 0) \n",
    "X_cat_dog1 = X_cat_dog.reshape(-1,width*height) # note coversion to 4096 inputs\n",
    "\n",
    "# Scikit Learn for min-max scaling of the data\n",
    "from sklearn.preprocessing import MinMaxScaler\n",
    "scaler = MinMaxScaler()\n",
    "scaler.fit(np.array([0., 255.]).reshape(-1,1))\n",
    "X_cat_dog_min_max1 = scaler.transform(X_cat_dog1)\n",
    "\n",
    "# Define the labels to be used 1000 cats = 0 1000 dogs = 1\n",
    "y_cat_dog1 = np.concatenate((np.zeros((1000), dtype = np.int32), \n",
    "                      np.ones((1000), dtype = np.int32)), axis = 0)\n",
    "\n",
    "# Scikit Learn for random splitting of the data  \n",
    "from sklearn.model_selection import train_test_split\n",
    "\n",
    "# Random splitting of data  \n",
    "X_train, X_test, y_train, y_test = \\\n",
    "    train_test_split(X_cat_dog_min_max1, y_cat_dog1, test_size=0.20, \n",
    "                     random_state = RANDOM_SEED)\n",
    "\n",
    "X_train, X_val, y_train, y_val = \\\n",
    "    train_test_split(X_train, y_train, test_size=0.20, \n",
    "                     random_state=RANDOM_SEED)"
   ]
  },
  {
   "cell_type": "code",
   "execution_count": 768,
   "metadata": {},
   "outputs": [
    {
     "name": "stdout",
     "output_type": "stream",
     "text": [
      "0 Train accuracy: 0.58 Validation accuracy: 0.528125 Test accuracy: 0.535\n",
      "1 Train accuracy: 0.64 Validation accuracy: 0.546875 Test accuracy: 0.5425\n",
      "2 Train accuracy: 0.69 Validation accuracy: 0.553125 Test accuracy: 0.535\n",
      "3 Train accuracy: 0.68 Validation accuracy: 0.559375 Test accuracy: 0.545\n",
      "4 Train accuracy: 0.69 Validation accuracy: 0.55625 Test accuracy: 0.555\n",
      "5 Train accuracy: 0.73 Validation accuracy: 0.56875 Test accuracy: 0.56\n",
      "6 Train accuracy: 0.73 Validation accuracy: 0.58125 Test accuracy: 0.5625\n",
      "7 Train accuracy: 0.71 Validation accuracy: 0.584375 Test accuracy: 0.5525\n",
      "8 Train accuracy: 0.71 Validation accuracy: 0.5875 Test accuracy: 0.55\n",
      "9 Train accuracy: 0.74 Validation accuracy: 0.575 Test accuracy: 0.57\n",
      "10 Train accuracy: 0.74 Validation accuracy: 0.578125 Test accuracy: 0.5575\n",
      "11 Train accuracy: 0.75 Validation accuracy: 0.571875 Test accuracy: 0.555\n",
      "12 Train accuracy: 0.76 Validation accuracy: 0.575 Test accuracy: 0.5575\n",
      "13 Train accuracy: 0.78 Validation accuracy: 0.59375 Test accuracy: 0.555\n",
      "14 Train accuracy: 0.76 Validation accuracy: 0.590625 Test accuracy: 0.55\n",
      "15 Train accuracy: 0.8 Validation accuracy: 0.571875 Test accuracy: 0.56\n",
      "16 Train accuracy: 0.81 Validation accuracy: 0.5875 Test accuracy: 0.56\n",
      "17 Train accuracy: 0.8 Validation accuracy: 0.584375 Test accuracy: 0.5575\n",
      "18 Train accuracy: 0.83 Validation accuracy: 0.571875 Test accuracy: 0.56\n",
      "19 Train accuracy: 0.81 Validation accuracy: 0.56875 Test accuracy: 0.55\n",
      "20 Train accuracy: 0.83 Validation accuracy: 0.584375 Test accuracy: 0.56\n",
      "21 Train accuracy: 0.81 Validation accuracy: 0.58125 Test accuracy: 0.565\n",
      "22 Train accuracy: 0.82 Validation accuracy: 0.578125 Test accuracy: 0.5525\n",
      "23 Train accuracy: 0.79 Validation accuracy: 0.540625 Test accuracy: 0.565\n",
      "24 Train accuracy: 0.82 Validation accuracy: 0.58125 Test accuracy: 0.5525\n",
      "25 Train accuracy: 0.82 Validation accuracy: 0.546875 Test accuracy: 0.57\n",
      "26 Train accuracy: 0.83 Validation accuracy: 0.5875 Test accuracy: 0.56\n",
      "27 Train accuracy: 0.78 Validation accuracy: 0.540625 Test accuracy: 0.555\n",
      "28 Train accuracy: 0.61 Validation accuracy: 0.528125 Test accuracy: 0.545\n",
      "29 Train accuracy: 0.83 Validation accuracy: 0.578125 Test accuracy: 0.5775\n",
      "30 Train accuracy: 0.6 Validation accuracy: 0.51875 Test accuracy: 0.5375\n",
      "31 Train accuracy: 0.7 Validation accuracy: 0.54375 Test accuracy: 0.56\n",
      "32 Train accuracy: 0.6 Validation accuracy: 0.521875 Test accuracy: 0.55\n",
      "33 Train accuracy: 0.84 Validation accuracy: 0.58125 Test accuracy: 0.5725\n",
      "34 Train accuracy: 0.84 Validation accuracy: 0.56875 Test accuracy: 0.55\n",
      "35 Train accuracy: 0.86 Validation accuracy: 0.584375 Test accuracy: 0.575\n",
      "36 Train accuracy: 0.85 Validation accuracy: 0.596875 Test accuracy: 0.56\n",
      "37 Train accuracy: 0.86 Validation accuracy: 0.559375 Test accuracy: 0.555\n",
      "38 Train accuracy: 0.87 Validation accuracy: 0.58125 Test accuracy: 0.565\n",
      "39 Train accuracy: 0.87 Validation accuracy: 0.578125 Test accuracy: 0.56\n",
      "40 Train accuracy: 0.85 Validation accuracy: 0.60625 Test accuracy: 0.5675\n",
      "41 Train accuracy: 0.87 Validation accuracy: 0.59375 Test accuracy: 0.575\n",
      "42 Train accuracy: 0.87 Validation accuracy: 0.603125 Test accuracy: 0.56\n",
      "43 Train accuracy: 0.87 Validation accuracy: 0.6 Test accuracy: 0.5675\n",
      "44 Train accuracy: 0.79 Validation accuracy: 0.553125 Test accuracy: 0.5525\n",
      "45 Train accuracy: 0.62 Validation accuracy: 0.5375 Test accuracy: 0.555\n",
      "46 Train accuracy: 0.72 Validation accuracy: 0.54375 Test accuracy: 0.5525\n",
      "47 Train accuracy: 0.74 Validation accuracy: 0.5375 Test accuracy: 0.56\n",
      "48 Train accuracy: 0.73 Validation accuracy: 0.521875 Test accuracy: 0.545\n",
      "49 Train accuracy: 0.87 Validation accuracy: 0.590625 Test accuracy: 0.565\n"
     ]
    }
   ],
   "source": [
    "# 300 and 100 nodes for layers 1 and 2\n",
    "n_hidden1 = 300\n",
    "n_hidden2 = 100\n",
    "n_inputs = height * width\n",
    "n_epochs = 50\n",
    "batch_size = 100\n",
    "# binary classification for cats and dogs\n",
    "n_outputs = 2 \n",
    "\n",
    "reset_graph()\n",
    "\n",
    "# set placeholders\n",
    "X = tf.placeholder(tf.float32, shape=(None, n_inputs), name=\"X\")\n",
    "y = tf.placeholder(tf.int32, shape=(None), name=\"y\")\n",
    "\n",
    "def neuron_layer(X, n_neurons, name, activation=None):\n",
    "    with tf.name_scope(name):\n",
    "        n_inputs = int(X.get_shape()[1])\n",
    "        stddev = 2 / np.sqrt(n_inputs)\n",
    "        init = tf.truncated_normal((n_inputs, n_neurons), stddev=stddev)\n",
    "        W = tf.Variable(init, name=\"kernel\")\n",
    "        b = tf.Variable(tf.zeros([n_neurons]), name=\"bias\")\n",
    "        Z = tf.matmul(X, W) + b\n",
    "        if activation is not None:\n",
    "            return activation(Z)\n",
    "        else:\n",
    "            return Z\n",
    "\n",
    "with tf.name_scope(\"dnn\"):\n",
    "    hidden1 = neuron_layer(X, n_hidden1, name=\"hidden1\",\n",
    "                           activation=tf.nn.relu)\n",
    "    hidden2 = neuron_layer(hidden1, n_hidden2, name=\"hidden2\",\n",
    "                           activation=tf.nn.relu)\n",
    "    logits = neuron_layer(hidden2, n_outputs, name=\"outputs\")\n",
    "\n",
    "with tf.name_scope(\"loss\"):\n",
    "    xentropy = tf.nn.sparse_softmax_cross_entropy_with_logits(labels=y,\n",
    "                                                              logits=logits)\n",
    "    loss = tf.reduce_mean(xentropy, name=\"loss\")\n",
    "\n",
    "learning_rate = 0.01\n",
    "\n",
    "with tf.name_scope(\"train\"):\n",
    "    optimizer = tf.train.GradientDescentOptimizer(learning_rate)\n",
    "    training_op = optimizer.minimize(loss)\n",
    "    \n",
    "with tf.name_scope(\"eval\"):\n",
    "    correct = tf.nn.in_top_k(logits, y, 1)\n",
    "    accuracy = tf.reduce_mean(tf.cast(correct, tf.float32))    \n",
    "\n",
    "init = tf.global_variables_initializer()\n",
    "saver = tf.train.Saver() \n",
    "\n",
    "with tf.Session() as sess:\n",
    "    init.run()\n",
    "    \n",
    "    #initialize time\n",
    "    start_time = time.clock()\n",
    "    \n",
    "    for epoch in range(n_epochs):\n",
    "        for iteration in range(y_train.shape[0] // batch_size):\n",
    "            X_batch = X_train[iteration*batch_size:(iteration + 1)*batch_size,:]\n",
    "            y_batch = y_train[iteration*batch_size:(iteration + 1)*batch_size]\n",
    "            sess.run(training_op, feed_dict={X: X_batch, y: y_batch})\n",
    "        acc_train = accuracy.eval(feed_dict={X: X_batch, y: y_batch})\n",
    "        acc_val = accuracy.eval(feed_dict={X: X_val, y: y_val})\n",
    "        acc_test = accuracy.eval(feed_dict={X: X_test, y: y_test})\n",
    "        print(epoch, \"Train accuracy:\", acc_train, \"Validation accuracy:\", \n",
    "              acc_val, \"Test accuracy:\", acc_test)\n",
    "    \n",
    "    b_train = acc_train\n",
    "    b_val = acc_val\n",
    "    b_test = acc_test\n",
    "    training_accuracy.append(b_train)\n",
    "    val_accuracy.append(b_val)\n",
    "    test_accuracy.append(b_test)\n",
    "    \n",
    "     #End Time\n",
    "    end_time = time.clock()\n",
    "\n",
    "    b_time = end_time - start_time\n",
    "    \n",
    "    #append the results to the list\n",
    "    model_time.append(b_time)"
   ]
  },
  {
   "cell_type": "code",
   "execution_count": 769,
   "metadata": {},
   "outputs": [
    {
     "name": "stdout",
     "output_type": "stream",
     "text": [
      "Baseline Results:------------------------\n",
      "Train Accuracy: 0.8700000047683716\n",
      "Validation Accuracy: 0.590624988079071\n",
      "Test Accuracy: 0.5649999976158142\n"
     ]
    }
   ],
   "source": [
    "print(\"Baseline Results:------------------------\")\n",
    "print(\"Train Accuracy: {}\\nValidation Accuracy: {}\\nTest Accuracy: {}\".format(b_train, b_val, b_test))"
   ]
  },
  {
   "cell_type": "markdown",
   "metadata": {},
   "source": [
    "# Convolutional Neural Networks"
   ]
  },
  {
   "cell_type": "markdown",
   "metadata": {},
   "source": [
    "<b> Data Preparation for CNN</b>"
   ]
  },
  {
   "cell_type": "markdown",
   "metadata": {},
   "source": [
    "Adapted from: http://www.subsubroutine.com/sub-subroutine/2016/9/30/cats-and-dogs-and-convolutional-neural-networks"
   ]
  },
  {
   "cell_type": "code",
   "execution_count": 674,
   "metadata": {},
   "outputs": [],
   "source": [
    "# Stack the numpy arrays for the inputs\n",
    "X_cat_dog_a = np.concatenate((cats_1000_64_64_3, dogs_1000_64_64_3), axis = 0) \n",
    "#X_cat_dog_a = X_cat_dog_a.reshape(-1,width*height) # note coversion to 4096 inputs\n",
    "#X_cat_dog_a = X_cat_dog_a.reshape(-1,width*height)\n",
    "# Define the labels to be used 1000 cats = 0 1000 dogs = 1\n",
    "y_cat_dog_a = np.concatenate((np.zeros((1000), dtype = np.int32), \n",
    "                      np.ones((1000), dtype = np.int32)), axis = 0)\n",
    "\n",
    "# Scikit Learn for random splitting of the data  \n",
    "from sklearn.model_selection import train_test_split\n",
    "# Random splitting of data  \n",
    "X_train_a, X_test_a, y_train_a, y_test_a = \\\n",
    "    train_test_split(X_cat_dog_a, y_cat_dog_a, test_size=0.20, \n",
    "                     random_state = RANDOM_SEED)\n",
    "\n",
    "# encode the Ys\n",
    "y_train_a = to_categorical(y_train_a, 2)\n",
    "y_test_a = to_categorical(y_test_a, 2)"
   ]
  },
  {
   "cell_type": "code",
   "execution_count": 675,
   "metadata": {},
   "outputs": [],
   "source": [
    "reset_graph()\n",
    "\n",
    "#set height & width\n",
    "height = 64\n",
    "width = 64\n",
    "channels = 3"
   ]
  },
  {
   "cell_type": "code",
   "execution_count": 676,
   "metadata": {},
   "outputs": [],
   "source": [
    "# Real-time data preprocessing\n",
    "img_prep = ImagePreprocessing()\n",
    "img_prep.add_featurewise_zero_center()\n",
    "img_prep.add_featurewise_stdnorm()\n",
    "\n",
    "# Real-time data augmentation\n",
    "img_aug = ImageAugmentation()\n",
    "img_aug.add_random_flip_leftright()\n",
    "img_aug.add_random_rotation(max_angle=25.)"
   ]
  },
  {
   "cell_type": "markdown",
   "metadata": {},
   "source": [
    "<b>Model C</b>"
   ]
  },
  {
   "cell_type": "markdown",
   "metadata": {},
   "source": [
    "RGB, 3 Convolutional Layers, 2 Pooling Layers, 1 Fully Connected Layer"
   ]
  },
  {
   "cell_type": "code",
   "execution_count": 679,
   "metadata": {},
   "outputs": [],
   "source": [
    "# Convolutional network building\n",
    "network = input_data(shape=[None, 64, 64, 3],\n",
    "                     data_preprocessing=img_prep,\n",
    "                     data_augmentation=img_aug)\n",
    "\n",
    "# 1: Convolution layer with 32 filters, each 3x3x3\n",
    "conv_1 = conv_2d(network, 32, 3, activation='relu', name='conv_1')\n",
    "\n",
    "# 2: Max pooling layer\n",
    "network = max_pool_2d(conv_1, 2)\n",
    "\n",
    "# 3: Convolution layer with 64 filters\n",
    "conv_2 = conv_2d(network, 64, 3, activation='relu', name='conv_2')\n",
    "\n",
    "# 4: Convolution layer with 64 filters\n",
    "conv_3 = conv_2d(conv_2, 64, 3, activation='relu', name='conv_3')\n",
    "\n",
    "# 5: Max pooling layer\n",
    "network = max_pool_2d(conv_3, 2)\n",
    "\n",
    "# 6: Fully-connected 512 node layer\n",
    "network = fully_connected(network, 512, activation='relu')\n",
    "\n",
    "# 7: Dropout layer to combat overfitting\n",
    "network = dropout(network, 0.5)\n",
    "\n",
    "# 8: Fully-connected layer with two outputs\n",
    "network = fully_connected(network, 2, activation='softmax')\n",
    "\n",
    "\n",
    "acc = Accuracy(name=\"Accuracy\")\n",
    "network = regression(network, optimizer='adam',\n",
    "                     loss='categorical_crossentropy',\n",
    "                     learning_rate=0.00005, metric=acc)\n",
    "# Wrap the network in a model object\n",
    "model = tflearn.DNN(network, checkpoint_path='model_cat_dog_6.tflearn', \n",
    "                    max_checkpoints = 1, tensorboard_verbose = 2, \n",
    "                    tensorboard_dir='tmp/tflearn_logs/')"
   ]
  },
  {
   "cell_type": "code",
   "execution_count": 680,
   "metadata": {},
   "outputs": [
    {
     "name": "stdout",
     "output_type": "stream",
     "text": [
      "Training Step: 699  | total loss: \u001b[1m\u001b[32m0.42564\u001b[0m\u001b[0m | time: 6.564s\n",
      "| Adam | epoch: 100 | loss: 0.42564 - Accuracy: 0.9411 -- iter: 1536/1600\n",
      "Training Step: 700  | total loss: \u001b[1m\u001b[32m0.38555\u001b[0m\u001b[0m | time: 8.894s\n",
      "| Adam | epoch: 100 | loss: 0.38555 - Accuracy: 0.9466 | val_loss: 0.90288 - val_acc: 0.6850 -- iter: 1600/1600\n",
      "--\n"
     ]
    },
    {
     "name": "stderr",
     "output_type": "stream",
     "text": [
      "W0809 12:53:32.150146 24512 meta_graph.py:449] Issue encountered when serializing data_preprocessing.\n",
      "Type is unsupported, or the types of the items don't match field type in CollectionDef. Note this is a warning and probably safe to ignore.\n",
      "'ImagePreprocessing' object has no attribute 'name'\n",
      "W0809 12:53:32.155133 24512 meta_graph.py:449] Issue encountered when serializing data_augmentation.\n",
      "Type is unsupported, or the types of the items don't match field type in CollectionDef. Note this is a warning and probably safe to ignore.\n",
      "'ImageAugmentation' object has no attribute 'name'\n",
      "W0809 12:53:32.157128 24512 meta_graph.py:449] Issue encountered when serializing summary_tags.\n",
      "Type is unsupported, or the types of the items don't match field type in CollectionDef. Note this is a warning and probably safe to ignore.\n",
      "'dict' object has no attribute 'name'\n"
     ]
    }
   ],
   "source": [
    "%time\n",
    "\n",
    "tf.reset_default_graph()\n",
    "\n",
    "#initialize time\n",
    "start_time = time.clock()\n",
    "\n",
    "# Train the model\n",
    "model.fit(X_train_a, y_train_a, n_epoch=100, \n",
    "          validation_set=(X_test_a, y_test_a),show_metric=True, \n",
    "          batch_size=256, run_id='model_cat_dog_6')\n",
    "\n",
    "#End Time\n",
    "end_time = time.clock()\n",
    "\n",
    "cnn1_time = end_time - start_time\n",
    "model.save('model_cat_dog_6_final.tflearn')"
   ]
  },
  {
   "cell_type": "code",
   "execution_count": 738,
   "metadata": {},
   "outputs": [],
   "source": [
    "#append the results to the list\n",
    "model_time.append(cnn1_time)"
   ]
  },
  {
   "cell_type": "code",
   "execution_count": 770,
   "metadata": {},
   "outputs": [],
   "source": [
    "c_train = 0.9466\n",
    "training_accuracy.append(c_train)\n",
    "\n",
    "c_test = 0.6860\n",
    "test_accuracy.append(c_test)"
   ]
  },
  {
   "cell_type": "markdown",
   "metadata": {},
   "source": [
    "<b> Model D</b>"
   ]
  },
  {
   "cell_type": "markdown",
   "metadata": {},
   "source": [
    "Grayscale, 2 Convolutional Layers, 1 Pooling Layers, 2 Fully Connected Layer"
   ]
  },
  {
   "cell_type": "code",
   "execution_count": 744,
   "metadata": {
    "scrolled": true
   },
   "outputs": [],
   "source": [
    "# Stack the numpy arrays for the inputs\n",
    "X_cat_dog_b = np.concatenate((cats_1000_64_64_1, dogs_1000_64_64_1), axis = 0) \n",
    "#X_cat_dog_a = X_cat_dog_a.reshape(-1,width*height) # note coversion to 4096 inputs\n",
    "#X_cat_dog_a = X_cat_dog_a.reshape(-1,width*height)\n",
    "# Define the labels to be used 1000 cats = 0 1000 dogs = 1\n",
    "y_cat_dog_b = np.concatenate((np.zeros((1000), dtype = np.int32), \n",
    "                      np.ones((1000), dtype = np.int32)), axis = 0)\n",
    "\n",
    "# Scikit Learn for random splitting of the data  \n",
    "from sklearn.model_selection import train_test_split\n",
    "# Random splitting of data  \n",
    "X_train_b, X_test_b, y_train_b, y_test_b = \\\n",
    "    train_test_split(X_cat_dog_b, y_cat_dog_b, test_size=0.20, \n",
    "                     random_state = RANDOM_SEED)\n",
    "\n",
    "# encode the Ys\n",
    "y_train_b = to_categorical(y_train_b, 2)\n",
    "y_test_b = to_categorical(y_test_b, 2)"
   ]
  },
  {
   "cell_type": "code",
   "execution_count": 745,
   "metadata": {},
   "outputs": [],
   "source": [
    "reset_graph()\n",
    "\n",
    "#set height & width\n",
    "height = 64\n",
    "width = 64\n",
    "channels = 1"
   ]
  },
  {
   "cell_type": "code",
   "execution_count": 746,
   "metadata": {},
   "outputs": [],
   "source": [
    "# Real-time data preprocessing\n",
    "img_prep = ImagePreprocessing()\n",
    "img_prep.add_featurewise_zero_center()\n",
    "img_prep.add_featurewise_stdnorm()\n",
    "\n",
    "# Real-time data augmentation\n",
    "img_aug = ImageAugmentation()\n",
    "img_aug.add_random_flip_leftright()\n",
    "img_aug.add_random_rotation(max_angle=25.)"
   ]
  },
  {
   "cell_type": "code",
   "execution_count": 747,
   "metadata": {},
   "outputs": [],
   "source": [
    "# Convolutional network building\n",
    "network = input_data(shape=[None, 64, 64, 1],\n",
    "                     data_preprocessing=img_prep,\n",
    "                     data_augmentation=img_aug)\n",
    "\n",
    "# 1: Convolution layer with 32 filters, each 3x3x3\n",
    "conv_1 = conv_2d(network, 32, 3, activation='relu', name='conv_1')\n",
    "\n",
    "# 2: Max pooling layer\n",
    "network = max_pool_2d(conv_1, 2)\n",
    "\n",
    "# 3: Convolution layer with 64 filters\n",
    "conv_2 = conv_2d(network, 64, 3, activation='relu', name='conv_2')\n",
    "\n",
    "# 4: Convolution layer with 64 filters\n",
    "conv_3 = conv_2d(conv_2, 64, 3, activation='relu', name='conv_3')\n",
    "\n",
    "# 5: Max pooling layer\n",
    "network = max_pool_2d(conv_3, 2)\n",
    "\n",
    "# 6: Fully-connected 512 node layer\n",
    "network = fully_connected(network, 512, activation='relu')\n",
    "\n",
    "# 7: Dropout layer to combat overfitting\n",
    "network = dropout(network, 0.5)\n",
    "\n",
    "# 8: Fully-connected layer with two outputs\n",
    "network = fully_connected(network, 2, activation='softmax')\n",
    "\n",
    "\n",
    "acc = Accuracy(name=\"Accuracy\")\n",
    "network = regression(network, optimizer='adam',\n",
    "                     loss='categorical_crossentropy',\n",
    "                     learning_rate=0.00005, metric=acc)\n",
    "# Wrap the network in a model object\n",
    "model = tflearn.DNN(network, checkpoint_path='model_cat_dog_6.tflearn', \n",
    "                    max_checkpoints = 1, tensorboard_verbose = 2, \n",
    "                    tensorboard_dir='tmp/tflearn_logs/')"
   ]
  },
  {
   "cell_type": "code",
   "execution_count": 748,
   "metadata": {},
   "outputs": [
    {
     "name": "stdout",
     "output_type": "stream",
     "text": [
      "Training Step: 699  | total loss: \u001b[1m\u001b[32m0.44853\u001b[0m\u001b[0m | time: 6.523s\n",
      "| Adam | epoch: 100 | loss: 0.44853 - Accuracy: 0.9319 -- iter: 1536/1600\n",
      "Training Step: 700  | total loss: \u001b[1m\u001b[32m0.40511\u001b[0m\u001b[0m | time: 8.844s\n",
      "| Adam | epoch: 100 | loss: 0.40511 - Accuracy: 0.9387 | val_loss: 1.01746 - val_acc: 0.6525 -- iter: 1600/1600\n",
      "--\n"
     ]
    },
    {
     "name": "stderr",
     "output_type": "stream",
     "text": [
      "W0809 16:42:02.441892 24512 meta_graph.py:449] Issue encountered when serializing data_preprocessing.\n",
      "Type is unsupported, or the types of the items don't match field type in CollectionDef. Note this is a warning and probably safe to ignore.\n",
      "'ImagePreprocessing' object has no attribute 'name'\n",
      "W0809 16:42:02.447885 24512 meta_graph.py:449] Issue encountered when serializing data_augmentation.\n",
      "Type is unsupported, or the types of the items don't match field type in CollectionDef. Note this is a warning and probably safe to ignore.\n",
      "'ImageAugmentation' object has no attribute 'name'\n",
      "W0809 16:42:02.448882 24512 meta_graph.py:449] Issue encountered when serializing summary_tags.\n",
      "Type is unsupported, or the types of the items don't match field type in CollectionDef. Note this is a warning and probably safe to ignore.\n",
      "'dict' object has no attribute 'name'\n"
     ]
    }
   ],
   "source": [
    "%time\n",
    "\n",
    "tf.reset_default_graph()\n",
    "\n",
    "#initialize time\n",
    "start_time = time.clock()\n",
    "\n",
    "# Train the model\n",
    "model.fit(X_train_b, y_train_b, n_epoch=100, \n",
    "          validation_set=(X_test_b, y_test_b),show_metric=True, \n",
    "          batch_size=256, run_id='model_cat_dog_6')\n",
    "\n",
    "#End Time\n",
    "end_time = time.clock()\n",
    "\n",
    "cnn2_time = end_time - start_time\n",
    "model.save('model_cat_dog_6_final.tflearn')"
   ]
  },
  {
   "cell_type": "code",
   "execution_count": 751,
   "metadata": {},
   "outputs": [],
   "source": [
    "#append the results to the list\n",
    "model_time.append(cnn2_time)"
   ]
  },
  {
   "cell_type": "code",
   "execution_count": 771,
   "metadata": {},
   "outputs": [],
   "source": [
    "d_train = 0.9387\n",
    "training_accuracy.append(d_train)\n",
    "\n",
    "d_test = 0.6525\n",
    "test_accuracy.append(d_test)"
   ]
  },
  {
   "cell_type": "markdown",
   "metadata": {},
   "source": [
    "# Final Results"
   ]
  },
  {
   "cell_type": "code",
   "execution_count": 752,
   "metadata": {},
   "outputs": [
    {
     "data": {
      "text/html": [
       "<div>\n",
       "<style scoped>\n",
       "    .dataframe tbody tr th:only-of-type {\n",
       "        vertical-align: middle;\n",
       "    }\n",
       "\n",
       "    .dataframe tbody tr th {\n",
       "        vertical-align: top;\n",
       "    }\n",
       "\n",
       "    .dataframe thead th {\n",
       "        text-align: right;\n",
       "    }\n",
       "</style>\n",
       "<table border=\"1\" class=\"dataframe\">\n",
       "  <thead>\n",
       "    <tr style=\"text-align: right;\">\n",
       "      <th></th>\n",
       "      <th>Processing Time (seconds)</th>\n",
       "    </tr>\n",
       "  </thead>\n",
       "  <tbody>\n",
       "    <tr>\n",
       "      <th>Model A</th>\n",
       "      <td>5.050180</td>\n",
       "    </tr>\n",
       "    <tr>\n",
       "      <th>Model B</th>\n",
       "      <td>4.909892</td>\n",
       "    </tr>\n",
       "    <tr>\n",
       "      <th>Model C</th>\n",
       "      <td>903.163326</td>\n",
       "    </tr>\n",
       "    <tr>\n",
       "      <th>Model D</th>\n",
       "      <td>935.644844</td>\n",
       "    </tr>\n",
       "  </tbody>\n",
       "</table>\n",
       "</div>"
      ],
      "text/plain": [
       "         Processing Time (seconds)\n",
       "Model A                   5.050180\n",
       "Model B                   4.909892\n",
       "Model C                 903.163326\n",
       "Model D                 935.644844"
      ]
     },
     "execution_count": 752,
     "metadata": {},
     "output_type": "execute_result"
    }
   ],
   "source": [
    "model_time = pd.DataFrame(model_time, columns=['Processing Time (seconds)'],\n",
    "                         index = ['Model A', 'Model B', 'Model C', 'Model D'])\n",
    "model_time"
   ]
  },
  {
   "cell_type": "code",
   "execution_count": 778,
   "metadata": {},
   "outputs": [
    {
     "data": {
      "text/html": [
       "<div>\n",
       "<style scoped>\n",
       "    .dataframe tbody tr th:only-of-type {\n",
       "        vertical-align: middle;\n",
       "    }\n",
       "\n",
       "    .dataframe tbody tr th {\n",
       "        vertical-align: top;\n",
       "    }\n",
       "\n",
       "    .dataframe thead th {\n",
       "        text-align: right;\n",
       "    }\n",
       "</style>\n",
       "<table border=\"1\" class=\"dataframe\">\n",
       "  <thead>\n",
       "    <tr style=\"text-align: right;\">\n",
       "      <th></th>\n",
       "      <th>Train Accuracy</th>\n",
       "    </tr>\n",
       "  </thead>\n",
       "  <tbody>\n",
       "    <tr>\n",
       "      <th>Model A</th>\n",
       "      <td>0.8700</td>\n",
       "    </tr>\n",
       "    <tr>\n",
       "      <th>Model B</th>\n",
       "      <td>0.8700</td>\n",
       "    </tr>\n",
       "    <tr>\n",
       "      <th>Model C</th>\n",
       "      <td>0.9466</td>\n",
       "    </tr>\n",
       "    <tr>\n",
       "      <th>Model D</th>\n",
       "      <td>0.9387</td>\n",
       "    </tr>\n",
       "  </tbody>\n",
       "</table>\n",
       "</div>"
      ],
      "text/plain": [
       "         Train Accuracy\n",
       "Model A          0.8700\n",
       "Model B          0.8700\n",
       "Model C          0.9466\n",
       "Model D          0.9387"
      ]
     },
     "execution_count": 778,
     "metadata": {},
     "output_type": "execute_result"
    }
   ],
   "source": [
    "# Average Accuracy\n",
    "training_accuracy_df = pd.DataFrame(training_accuracy, columns=['Train Accuracy'],\n",
    "                         index = ['Model r4A','Model A', 'Model B', 'Model C', 'Model D'])\n",
    "training_accuracy_df.drop('Model r4A')"
   ]
  },
  {
   "cell_type": "code",
   "execution_count": 779,
   "metadata": {},
   "outputs": [
    {
     "data": {
      "text/html": [
       "<div>\n",
       "<style scoped>\n",
       "    .dataframe tbody tr th:only-of-type {\n",
       "        vertical-align: middle;\n",
       "    }\n",
       "\n",
       "    .dataframe tbody tr th {\n",
       "        vertical-align: top;\n",
       "    }\n",
       "\n",
       "    .dataframe thead th {\n",
       "        text-align: right;\n",
       "    }\n",
       "</style>\n",
       "<table border=\"1\" class=\"dataframe\">\n",
       "  <thead>\n",
       "    <tr style=\"text-align: right;\">\n",
       "      <th></th>\n",
       "      <th>Test Accuracy</th>\n",
       "    </tr>\n",
       "  </thead>\n",
       "  <tbody>\n",
       "    <tr>\n",
       "      <th>Model A</th>\n",
       "      <td>0.5650</td>\n",
       "    </tr>\n",
       "    <tr>\n",
       "      <th>Model B</th>\n",
       "      <td>0.5650</td>\n",
       "    </tr>\n",
       "    <tr>\n",
       "      <th>Model C</th>\n",
       "      <td>0.6860</td>\n",
       "    </tr>\n",
       "    <tr>\n",
       "      <th>Model D</th>\n",
       "      <td>0.6525</td>\n",
       "    </tr>\n",
       "  </tbody>\n",
       "</table>\n",
       "</div>"
      ],
      "text/plain": [
       "         Test Accuracy\n",
       "Model A         0.5650\n",
       "Model B         0.5650\n",
       "Model C         0.6860\n",
       "Model D         0.6525"
      ]
     },
     "execution_count": 779,
     "metadata": {},
     "output_type": "execute_result"
    }
   ],
   "source": [
    "# Average Accuracy\n",
    "test_accuracy_df = pd.DataFrame(test_accuracy, columns=['Test Accuracy'],\n",
    "                         index = ['Model r4A','Model A', 'Model B', 'Model C', 'Model D'])\n",
    "test_accuracy_df.drop('Model r4A')"
   ]
  },
  {
   "cell_type": "code",
   "execution_count": 785,
   "metadata": {},
   "outputs": [
    {
     "data": {
      "text/html": [
       "<div>\n",
       "<style scoped>\n",
       "    .dataframe tbody tr th:only-of-type {\n",
       "        vertical-align: middle;\n",
       "    }\n",
       "\n",
       "    .dataframe tbody tr th {\n",
       "        vertical-align: top;\n",
       "    }\n",
       "\n",
       "    .dataframe thead th {\n",
       "        text-align: right;\n",
       "    }\n",
       "</style>\n",
       "<table border=\"1\" class=\"dataframe\">\n",
       "  <thead>\n",
       "    <tr style=\"text-align: right;\">\n",
       "      <th></th>\n",
       "      <th>Train Accuracy</th>\n",
       "      <th>Test Accuracy</th>\n",
       "      <th>Processing Time (seconds)</th>\n",
       "    </tr>\n",
       "  </thead>\n",
       "  <tbody>\n",
       "    <tr>\n",
       "      <th>Model A</th>\n",
       "      <td>0.8700</td>\n",
       "      <td>0.5650</td>\n",
       "      <td>5.050180</td>\n",
       "    </tr>\n",
       "    <tr>\n",
       "      <th>Model B</th>\n",
       "      <td>0.8700</td>\n",
       "      <td>0.5650</td>\n",
       "      <td>4.909892</td>\n",
       "    </tr>\n",
       "    <tr>\n",
       "      <th>Model C</th>\n",
       "      <td>0.9466</td>\n",
       "      <td>0.6860</td>\n",
       "      <td>903.163326</td>\n",
       "    </tr>\n",
       "    <tr>\n",
       "      <th>Model D</th>\n",
       "      <td>0.9387</td>\n",
       "      <td>0.6525</td>\n",
       "      <td>935.644844</td>\n",
       "    </tr>\n",
       "  </tbody>\n",
       "</table>\n",
       "</div>"
      ],
      "text/plain": [
       "         Train Accuracy  Test Accuracy  Processing Time (seconds)\n",
       "Model A          0.8700         0.5650                   5.050180\n",
       "Model B          0.8700         0.5650                   4.909892\n",
       "Model C          0.9466         0.6860                 903.163326\n",
       "Model D          0.9387         0.6525                 935.644844"
      ]
     },
     "execution_count": 785,
     "metadata": {},
     "output_type": "execute_result"
    }
   ],
   "source": [
    "results = training_accuracy_df\n",
    "results['Test Accuracy'] = test_accuracy_df['Test Accuracy']\n",
    "results['Processing Time (seconds)'] = model_time['Processing Time (seconds)']\n",
    "results = results.drop('Model r4A')\n",
    "results"
   ]
  },
  {
   "cell_type": "markdown",
   "metadata": {},
   "source": [
    "Recommendation: Use Model C as it yield higher train and test accuracy compared to the other models, even at the expensive of a longer computational runtime."
   ]
  }
 ],
 "metadata": {
  "kernelspec": {
   "display_name": "Python 3",
   "language": "python",
   "name": "python3"
  },
  "language_info": {
   "codemirror_mode": {
    "name": "ipython",
    "version": 3
   },
   "file_extension": ".py",
   "mimetype": "text/x-python",
   "name": "python",
   "nbconvert_exporter": "python",
   "pygments_lexer": "ipython3",
   "version": "3.7.3"
  }
 },
 "nbformat": 4,
 "nbformat_minor": 2
}
