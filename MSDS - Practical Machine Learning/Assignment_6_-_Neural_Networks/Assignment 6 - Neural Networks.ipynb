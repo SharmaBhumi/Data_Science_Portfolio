{
 "cells": [
  {
   "cell_type": "markdown",
   "metadata": {},
   "source": [
    "# Set Up"
   ]
  },
  {
   "cell_type": "code",
   "execution_count": 167,
   "metadata": {},
   "outputs": [],
   "source": [
    "%matplotlib inline\n",
    "\n",
    "import numpy as np\n",
    "import pandas as pd\n",
    "import matplotlib\n",
    "import matplotlib.pyplot as plt\n",
    "import seaborn as sns\n",
    "import tensorflow as tf\n",
    "import time\n",
    "\n",
    "# ignore warnings\n",
    "from sklearn.exceptions import DataConversionWarning\n",
    "import warnings\n",
    "\n",
    "warnings.filterwarnings(\"ignore\", category=np.VisibleDeprecationWarning)\n",
    "warnings.filterwarnings(\"ignore\", category=FutureWarning)\n",
    "warnings.filterwarnings('ignore', category=DataConversionWarning)\n",
    "warnings.simplefilter(\"ignore\", category=PendingDeprecationWarning)\n",
    "warnings.simplefilter('ignore', category=DeprecationWarning)\n",
    "\n",
    "\n",
    "plt.rcParams.update({'figure.max_open_warning': 0})\n",
    "\n",
    "# seaborn plot settings\n",
    "sns.set(style=\"ticks\", rc={'figure.figsize':(12,8)})\n",
    "sns.set_palette(\"hls\")\n",
    "\n",
    "# to make this notebook's output stable across runs\n",
    "def reset_graph(seed=42):\n",
    "    tf.reset_default_graph()\n",
    "    tf.set_random_seed(seed)\n",
    "    np.random.seed(seed)"
   ]
  },
  {
   "cell_type": "code",
   "execution_count": 172,
   "metadata": {},
   "outputs": [
    {
     "name": "stdout",
     "output_type": "stream",
     "text": [
      "Extracting /tmp/data/train-images-idx3-ubyte.gz\n",
      "Extracting /tmp/data/train-labels-idx1-ubyte.gz\n",
      "Extracting /tmp/data/t10k-images-idx3-ubyte.gz\n",
      "Extracting /tmp/data/t10k-labels-idx1-ubyte.gz\n",
      "Success!\n"
     ]
    }
   ],
   "source": [
    "from __future__ import print_function\n",
    "\n",
    "# Import MNIST data\n",
    "from tensorflow.examples.tutorials.mnist import input_data\n",
    "mnist = input_data.read_data_sets(\"/tmp/data/\", one_hot=True)\n",
    "\n",
    "print(\"Success!\")"
   ]
  },
  {
   "cell_type": "markdown",
   "metadata": {},
   "source": [
    "# Data Exploration"
   ]
  },
  {
   "cell_type": "code",
   "execution_count": 195,
   "metadata": {},
   "outputs": [
    {
     "data": {
      "image/png": "[encoded data removed]",
      "text/plain": [
       "<PIL.Image.Image image mode=L size=28x28 at 0x2A3869667B8>"
      ]
     },
     "metadata": {},
     "output_type": "display_data"
    },
    {
     "data": {
      "image/png": "[encoded data removed]",
      "text/plain": [
       "<PIL.Image.Image image mode=L size=28x28 at 0x2A3869666A0>"
      ]
     },
     "metadata": {},
     "output_type": "display_data"
    },
    {
     "data": {
      "image/png": "[encoded data removed]",
      "text/plain": [
       "<PIL.Image.Image image mode=L size=28x28 at 0x2A386966198>"
      ]
     },
     "metadata": {},
     "output_type": "display_data"
    },
    {
     "data": {
      "image/png": "[encoded data removed]",
      "text/plain": [
       "<PIL.Image.Image image mode=L size=28x28 at 0x2A3869666A0>"
      ]
     },
     "metadata": {},
     "output_type": "display_data"
    },
    {
     "data": {
      "image/png": "[encoded data removed]",
      "text/plain": [
       "<PIL.Image.Image image mode=L size=28x28 at 0x2A3869667B8>"
      ]
     },
     "metadata": {},
     "output_type": "display_data"
    },
    {
     "data": {
      "image/png": "[encoded data removed]",
      "text/plain": [
       "<PIL.Image.Image image mode=L size=28x28 at 0x2A386966400>"
      ]
     },
     "metadata": {},
     "output_type": "display_data"
    },
    {
     "data": {
      "image/png": "[encoded data removed]",
      "text/plain": [
       "<PIL.Image.Image image mode=L size=28x28 at 0x2A3869666A0>"
      ]
     },
     "metadata": {},
     "output_type": "display_data"
    },
    {
     "data": {
      "image/png": "[encoded data removed]",
      "text/plain": [
       "<PIL.Image.Image image mode=L size=28x28 at 0x2A3869666A0>"
      ]
     },
     "metadata": {},
     "output_type": "display_data"
    },
    {
     "data": {
      "image/png": "[encoded data removed]",
      "text/plain": [
       "<PIL.Image.Image image mode=L size=28x28 at 0x2A3869666A0>"
      ]
     },
     "metadata": {},
     "output_type": "display_data"
    },
    {
     "data": {
      "image/png": "[encoded data removed]",
      "text/plain": [
       "<PIL.Image.Image image mode=L size=28x28 at 0x2A3869660F0>"
      ]
     },
     "metadata": {},
     "output_type": "display_data"
    }
   ],
   "source": [
    "# view digit image examples from the dataset\n",
    "from PIL import Image\n",
    "\n",
    "def gen_image(arr):\n",
    "    two_d = (np.reshape(arr, (28, 28)) * 255).astype(np.uint8)\n",
    "    img = Image.fromarray(two_d, 'L')\n",
    "    return img\n",
    "\n",
    "batch_xs, batch_ys = mnist.test.next_batch(10)\n",
    "\n",
    "for i in range(10):\n",
    "    display(gen_image(batch_xs[i])) "
   ]
  },
  {
   "cell_type": "markdown",
   "metadata": {},
   "source": [
    "# Parameters"
   ]
  },
  {
   "cell_type": "code",
   "execution_count": 135,
   "metadata": {},
   "outputs": [],
   "source": [
    "learning_rate = 0.1\n",
    "num_steps = 500\n",
    "batch_size = 128\n",
    "display_step = 100"
   ]
  },
  {
   "cell_type": "markdown",
   "metadata": {},
   "source": [
    "# Hidden Layers and Neurons"
   ]
  },
  {
   "cell_type": "code",
   "execution_count": 136,
   "metadata": {},
   "outputs": [],
   "source": [
    "# number of neurons for n hidden layers\n",
    "n_hidden1_a = 20\n",
    "n_hidden2_a = 20\n",
    "\n",
    "n_hidden1_b = 50\n",
    "n_hidden2_b = 50\n",
    "\n",
    "n_hidden1_c = 20\n",
    "n_hidden2_c = 20\n",
    "n_hidden3_c = 20\n",
    "n_hidden4_c = 20\n",
    "n_hidden5_c = 20\n",
    "\n",
    "n_hidden1_d = 50\n",
    "n_hidden2_d = 50\n",
    "n_hidden3_d = 50\n",
    "n_hidden4_d = 50\n",
    "n_hidden5_d = 50\n",
    "\n",
    "# MNIST data shape\n",
    "n_inputs = 28*28\n",
    "\n",
    "# Total outputs for MNIST data (0-9 digits)\n",
    "n_classes = 10"
   ]
  },
  {
   "cell_type": "markdown",
   "metadata": {},
   "source": [
    "# Graphical Input"
   ]
  },
  {
   "cell_type": "code",
   "execution_count": 137,
   "metadata": {},
   "outputs": [],
   "source": [
    "# TF Graph Input\n",
    "reset_graph()\n",
    "\n",
    "X = tf.placeholder(tf.float32, shape=(None, n_inputs), name=\"X\")\n",
    "y = tf.placeholder(tf.int32, shape=(None), name=\"y\")"
   ]
  },
  {
   "cell_type": "markdown",
   "metadata": {},
   "source": [
    "# Model Set Up "
   ]
  },
  {
   "cell_type": "code",
   "execution_count": 138,
   "metadata": {},
   "outputs": [],
   "source": [
    "# Store layers weight & bias\n",
    "weights = {\n",
    "    'h1a': tf.Variable(tf.random_normal([n_inputs, n_hidden1_a])),\n",
    "    'h2a': tf.Variable(tf.random_normal([n_hidden1_a, n_hidden2_a])),\n",
    "    'outa': tf.Variable(tf.random_normal([n_hidden2_a, n_classes])),\n",
    "    \n",
    "    'h1b': tf.Variable(tf.random_normal([n_inputs, n_hidden1_b])),\n",
    "    'h2b': tf.Variable(tf.random_normal([n_hidden1_b, n_hidden2_b])),\n",
    "    'outb': tf.Variable(tf.random_normal([n_hidden2_b, n_classes])),\n",
    "    \n",
    "    'h1c': tf.Variable(tf.random_normal([n_inputs, n_hidden1_c])),\n",
    "    'h2c': tf.Variable(tf.random_normal([n_hidden1_c, n_hidden2_c])),\n",
    "    'h3c': tf.Variable(tf.random_normal([n_hidden2_c, n_hidden3_c])),\n",
    "    'h4c': tf.Variable(tf.random_normal([n_hidden3_c, n_hidden4_c])),\n",
    "    'h5c': tf.Variable(tf.random_normal([n_hidden4_c, n_hidden5_c])),\n",
    "    'outc': tf.Variable(tf.random_normal([n_hidden5_c, n_classes])),\n",
    "    \n",
    "    'h1d': tf.Variable(tf.random_normal([n_inputs, n_hidden1_d])),\n",
    "    'h2d': tf.Variable(tf.random_normal([n_hidden1_d, n_hidden2_d])),\n",
    "    'h3d': tf.Variable(tf.random_normal([n_hidden2_d, n_hidden3_d])),\n",
    "    'h4d': tf.Variable(tf.random_normal([n_hidden3_d, n_hidden4_d])),\n",
    "    'h5d': tf.Variable(tf.random_normal([n_hidden4_d, n_hidden5_d])),\n",
    "    'outd': tf.Variable(tf.random_normal([n_hidden5_d, n_classes]))\n",
    "}\n",
    "biases = {\n",
    "    'b1a': tf.Variable(tf.random_normal([n_hidden1_a])),\n",
    "    'b2a': tf.Variable(tf.random_normal([n_hidden2_a])),\n",
    "    \n",
    "    'b1b': tf.Variable(tf.random_normal([n_hidden1_b])),\n",
    "    'b2b': tf.Variable(tf.random_normal([n_hidden2_b])),\n",
    "    \n",
    "    'b1c': tf.Variable(tf.random_normal([n_hidden1_c])),\n",
    "    'b2c': tf.Variable(tf.random_normal([n_hidden2_c])),\n",
    "    'b3c': tf.Variable(tf.random_normal([n_hidden3_c])),\n",
    "    'b4c': tf.Variable(tf.random_normal([n_hidden4_c])),\n",
    "    'b5c': tf.Variable(tf.random_normal([n_hidden5_c])),\n",
    "    \n",
    "    'b1d': tf.Variable(tf.random_normal([n_hidden1_d])),\n",
    "    'b2d': tf.Variable(tf.random_normal([n_hidden2_d])),\n",
    "    'b3d': tf.Variable(tf.random_normal([n_hidden3_d])),\n",
    "    'b4d': tf.Variable(tf.random_normal([n_hidden4_d])),\n",
    "    'b5d': tf.Variable(tf.random_normal([n_hidden5_d])),\n",
    "    \n",
    "    'out': tf.Variable(tf.random_normal([n_classes]))\n",
    "}"
   ]
  },
  {
   "cell_type": "code",
   "execution_count": 139,
   "metadata": {},
   "outputs": [],
   "source": [
    "# Define the Model\n",
    "def multilayer_perceptron_a(x):\n",
    "    # Hidden fully connected layers with 20 neurons\n",
    "    layer_1 = tf.add(tf.matmul(x, weights['h1a']), biases['b1a'])\n",
    "    layer_2 = tf.add(tf.matmul(layer_1, weights['h2a']), biases['b2a'])\n",
    "    # Output fully connected layer with a neuron for each class\n",
    "    out_layer = tf.matmul(layer_2, weights['outa']) + biases['out']\n",
    "    return out_layer\n",
    "\n",
    "def multilayer_perceptron_b(x):\n",
    "    # Hidden fully connected layers with 50 neurons\n",
    "    layer_1 = tf.add(tf.matmul(x, weights['h1b']), biases['b1b'])\n",
    "    layer_2 = tf.add(tf.matmul(layer_1, weights['h2b']), biases['b2b'])\n",
    "    # Output fully connected layer with a neuron for each class\n",
    "    out_layer = tf.matmul(layer_2, weights['outb']) + biases['out']\n",
    "    return out_layer\n",
    "\n",
    "def multilayer_perceptron_c(x):\n",
    "    # Hidden fully connected layers with 20 neurons\n",
    "    layer_1 = tf.add(tf.matmul(x, weights['h1c']), biases['b1c'])\n",
    "    layer_2 = tf.add(tf.matmul(layer_1, weights['h2c']), biases['b2c'])\n",
    "    layer_3 = tf.add(tf.matmul(layer_2, weights['h3c']), biases['b3c'])\n",
    "    layer_4 = tf.add(tf.matmul(layer_3, weights['h4c']), biases['b4c'])\n",
    "    layer_5 = tf.add(tf.matmul(layer_4, weights['h5c']), biases['b5c'])\n",
    "    # Output fully connected layer with a neuron for each class\n",
    "    out_layer = tf.matmul(layer_5, weights['outc']) + biases['out']\n",
    "    return out_layer\n",
    "\n",
    "def multilayer_perceptron_d(x):\n",
    "    # Hidden fully connected layers with 50 neurons\n",
    "    layer_1 = tf.add(tf.matmul(x, weights['h1d']), biases['b1d'])\n",
    "    layer_2 = tf.add(tf.matmul(layer_1, weights['h2d']), biases['b2d'])\n",
    "    layer_3 = tf.add(tf.matmul(layer_2, weights['h3d']), biases['b3d'])\n",
    "    layer_4 = tf.add(tf.matmul(layer_3, weights['h4d']), biases['b4d'])\n",
    "    layer_5 = tf.add(tf.matmul(layer_4, weights['h5d']), biases['b5d'])\n",
    "    # Output fully connected layer with a neuron for each class\n",
    "    out_layer = tf.matmul(layer_5, weights['outd']) + biases['out']\n",
    "    return out_layer"
   ]
  },
  {
   "cell_type": "markdown",
   "metadata": {},
   "source": [
    "# Model A - Benchmark"
   ]
  },
  {
   "cell_type": "markdown",
   "metadata": {},
   "source": [
    "Hidden Layers: 2 <br>\n",
    "Neurons per Layer: 20"
   ]
  },
  {
   "cell_type": "code",
   "execution_count": 140,
   "metadata": {},
   "outputs": [],
   "source": [
    "# Model A Construction\n",
    "logits_a = multilayer_perceptron_a(X)\n",
    "\n",
    "# Define loss and optimizer\n",
    "loss_op = tf.reduce_mean(tf.nn.softmax_cross_entropy_with_logits(\n",
    "    logits=logits_a, labels=y))\n",
    "optimizer = tf.train.AdamOptimizer(learning_rate=learning_rate)\n",
    "train_op = optimizer.minimize(loss_op)\n",
    "\n",
    "# Evaluate model (with test logits, for dropout to be disabled)\n",
    "correct_pred = tf.equal(tf.argmax(logits_a, 1), tf.argmax(y, 1))\n",
    "accuracy = tf.reduce_mean(tf.cast(correct_pred, tf.float32))\n",
    "\n",
    "# Initialize the variables (i.e. assign their default value)\n",
    "init_a = tf.global_variables_initializer()"
   ]
  },
  {
   "cell_type": "code",
   "execution_count": 141,
   "metadata": {},
   "outputs": [
    {
     "name": "stdout",
     "output_type": "stream",
     "text": [
      "Wall time: 0 ns\n",
      "Step 1, Minibatch Loss= 237.3919, Training Accuracy= 0.180\n",
      "Step 100, Minibatch Loss= 6.1964, Training Accuracy= 0.812\n",
      "Step 200, Minibatch Loss= 1.5281, Training Accuracy= 0.828\n",
      "Step 300, Minibatch Loss= 0.5680, Training Accuracy= 0.891\n",
      "Step 400, Minibatch Loss= 0.8102, Training Accuracy= 0.852\n",
      "Step 500, Minibatch Loss= 0.6271, Training Accuracy= 0.867\n",
      "Optimization Finished!\n",
      "Model A Test Accuracy: 0.8582\n"
     ]
    }
   ],
   "source": [
    "%time\n",
    "\n",
    "model_accuracy = []\n",
    "model_time = []\n",
    "\n",
    "# Train the data\n",
    "with tf.Session() as sess:\n",
    "    \n",
    "    # Run the initializer\n",
    "    sess.run(init_a)\n",
    "    \n",
    "    #initialize time\n",
    "    start_time = time.clock()\n",
    "    \n",
    "    for step in range(1, num_steps+1):\n",
    "        batch_x, batch_y = mnist.train.next_batch(batch_size)\n",
    "        # Run optimization op (backprop)\n",
    "        sess.run(train_op, feed_dict={X: batch_x, y: batch_y})\n",
    "        if step % display_step == 0 or step == 1:\n",
    "            # Calculate batch loss and accuracy\n",
    "            loss, acc = sess.run([loss_op, accuracy], feed_dict={X: batch_x,\n",
    "                                                                 y: batch_y})\n",
    "            print(\"Step \" + str(step) + \", Minibatch Loss= \" + \\\n",
    "                  \"{:.4f}\".format(loss) + \", Training Accuracy= \" + \\\n",
    "                  \"{:.3f}\".format(acc))\n",
    "    \n",
    "    #End Time\n",
    "    end_time = time.clock()\n",
    "\n",
    "    modela_runtime = end_time - start_time\n",
    "    \n",
    "    #append the results to the list\n",
    "    model_time.append(modela_runtime)\n",
    "    \n",
    "    print(\"Optimization Finished!\")\n",
    "\n",
    "    # Calculate accuracy for MNIST test images\n",
    "    modela_accuracy = sess.run(accuracy, feed_dict={X: mnist.test.images,\n",
    "                                      y: mnist.test.labels})\n",
    "    model_accuracy.append(modela_accuracy)\n",
    "    \n",
    "    print(\"Model A Test Accuracy:\", \\\n",
    "        sess.run(accuracy, feed_dict={X: mnist.test.images,\n",
    "                                      y: mnist.test.labels}))\n",
    "    "
   ]
  },
  {
   "cell_type": "markdown",
   "metadata": {},
   "source": [
    "# Model B"
   ]
  },
  {
   "cell_type": "markdown",
   "metadata": {},
   "source": [
    "Hidden Layers: 2 <br>\n",
    "Neurons per Layer: 50"
   ]
  },
  {
   "cell_type": "code",
   "execution_count": 142,
   "metadata": {},
   "outputs": [],
   "source": [
    "# Model A Construction\n",
    "logits_b = multilayer_perceptron_b(X)\n",
    "\n",
    "# Define loss and optimizer\n",
    "loss_op = tf.reduce_mean(tf.nn.softmax_cross_entropy_with_logits(\n",
    "    logits=logits_b, labels=y))\n",
    "optimizer = tf.train.AdamOptimizer(learning_rate=learning_rate)\n",
    "train_op = optimizer.minimize(loss_op)\n",
    "\n",
    "# Evaluate model (with test logits, for dropout to be disabled)\n",
    "correct_pred = tf.equal(tf.argmax(logits_b, 1), tf.argmax(y, 1))\n",
    "accuracy = tf.reduce_mean(tf.cast(correct_pred, tf.float32))\n",
    "\n",
    "# Initialize the variables (i.e. assign their default value)\n",
    "init_b = tf.global_variables_initializer()"
   ]
  },
  {
   "cell_type": "code",
   "execution_count": 143,
   "metadata": {},
   "outputs": [
    {
     "name": "stdout",
     "output_type": "stream",
     "text": [
      "Wall time: 0 ns\n",
      "Step 1, Minibatch Loss= 1136.4633, Training Accuracy= 0.188\n",
      "Step 100, Minibatch Loss= 17.2739, Training Accuracy= 0.859\n",
      "Step 200, Minibatch Loss= 10.6956, Training Accuracy= 0.859\n",
      "Step 300, Minibatch Loss= 4.8267, Training Accuracy= 0.914\n",
      "Step 400, Minibatch Loss= 4.9032, Training Accuracy= 0.859\n",
      "Step 500, Minibatch Loss= 4.9857, Training Accuracy= 0.805\n",
      "Optimization Finished!\n",
      "Model A Test Accuracy: 0.8562\n"
     ]
    }
   ],
   "source": [
    "%time\n",
    "\n",
    "# Train the data\n",
    "with tf.Session() as sess:\n",
    "    \n",
    "    # Run the initializer\n",
    "    sess.run(init_b)\n",
    "    \n",
    "    #initialize time\n",
    "    start_time = time.clock()\n",
    "    \n",
    "    for step in range(1, num_steps+1):\n",
    "        batch_x, batch_y = mnist.train.next_batch(batch_size)\n",
    "        # Run optimization op (backprop)\n",
    "        sess.run(train_op, feed_dict={X: batch_x, y: batch_y})\n",
    "        if step % display_step == 0 or step == 1:\n",
    "            # Calculate batch loss and accuracy\n",
    "            loss, acc = sess.run([loss_op, accuracy], feed_dict={X: batch_x,\n",
    "                                                                 y: batch_y})\n",
    "            print(\"Step \" + str(step) + \", Minibatch Loss= \" + \\\n",
    "                  \"{:.4f}\".format(loss) + \", Training Accuracy= \" + \\\n",
    "                  \"{:.3f}\".format(acc))\n",
    "    \n",
    "    #End Time\n",
    "    end_time = time.clock()\n",
    "\n",
    "    modelb_runtime = end_time - start_time\n",
    "    \n",
    "    #append the results to the list\n",
    "    model_time.append(modelb_runtime)\n",
    "    \n",
    "    print(\"Optimization Finished!\")\n",
    "\n",
    "    # Calculate accuracy for MNIST test images\n",
    "    modelb_accuracy = sess.run(accuracy, feed_dict={X: mnist.test.images,\n",
    "                                      y: mnist.test.labels})\n",
    "    model_accuracy.append(modelb_accuracy)\n",
    "    \n",
    "    print(\"Model A Test Accuracy:\", \\\n",
    "        sess.run(accuracy, feed_dict={X: mnist.test.images,\n",
    "                                      y: mnist.test.labels}))\n",
    "    "
   ]
  },
  {
   "cell_type": "markdown",
   "metadata": {},
   "source": [
    "# Model C"
   ]
  },
  {
   "cell_type": "markdown",
   "metadata": {},
   "source": [
    "Hidden Layers: 5 <br>\n",
    "Neurons per Layer: 20"
   ]
  },
  {
   "cell_type": "code",
   "execution_count": 144,
   "metadata": {},
   "outputs": [],
   "source": [
    "# Model A Construction\n",
    "logits_c = multilayer_perceptron_c(X)\n",
    "\n",
    "# Define loss and optimizer\n",
    "loss_op = tf.reduce_mean(tf.nn.softmax_cross_entropy_with_logits(\n",
    "    logits=logits_c, labels=y))\n",
    "optimizer = tf.train.AdamOptimizer(learning_rate=learning_rate)\n",
    "train_op = optimizer.minimize(loss_op)\n",
    "\n",
    "# Evaluate model (with test logits, for dropout to be disabled)\n",
    "correct_pred = tf.equal(tf.argmax(logits_c, 1), tf.argmax(y, 1))\n",
    "accuracy = tf.reduce_mean(tf.cast(correct_pred, tf.float32))\n",
    "\n",
    "# Initialize the variables (i.e. assign their default value)\n",
    "init_c = tf.global_variables_initializer()"
   ]
  },
  {
   "cell_type": "code",
   "execution_count": 145,
   "metadata": {},
   "outputs": [
    {
     "name": "stdout",
     "output_type": "stream",
     "text": [
      "Wall time: 0 ns\n",
      "Step 1, Minibatch Loss= 7354.0020, Training Accuracy= 0.297\n",
      "Step 100, Minibatch Loss= 112.6850, Training Accuracy= 0.781\n",
      "Step 200, Minibatch Loss= 31.8501, Training Accuracy= 0.797\n",
      "Step 300, Minibatch Loss= 17.6252, Training Accuracy= 0.781\n",
      "Step 400, Minibatch Loss= 5.8752, Training Accuracy= 0.844\n",
      "Step 500, Minibatch Loss= 7.8933, Training Accuracy= 0.805\n",
      "Optimization Finished!\n",
      "Model A Test Accuracy: 0.8151\n"
     ]
    }
   ],
   "source": [
    "%time\n",
    "\n",
    "# Train the data\n",
    "with tf.Session() as sess:\n",
    "    \n",
    "    # Run the initializer\n",
    "    sess.run(init_c)\n",
    "    \n",
    "    #initialize time\n",
    "    start_time = time.clock()\n",
    "    \n",
    "    for step in range(1, num_steps+1):\n",
    "        batch_x, batch_y = mnist.train.next_batch(batch_size)\n",
    "        # Run optimization op (backprop)\n",
    "        sess.run(train_op, feed_dict={X: batch_x, y: batch_y})\n",
    "        if step % display_step == 0 or step == 1:\n",
    "            # Calculate batch loss and accuracy\n",
    "            loss, acc = sess.run([loss_op, accuracy], feed_dict={X: batch_x,\n",
    "                                                                 y: batch_y})\n",
    "            print(\"Step \" + str(step) + \", Minibatch Loss= \" + \\\n",
    "                  \"{:.4f}\".format(loss) + \", Training Accuracy= \" + \\\n",
    "                  \"{:.3f}\".format(acc))\n",
    "    \n",
    "    #End Time\n",
    "    end_time = time.clock()\n",
    "\n",
    "    modelc_runtime = end_time - start_time\n",
    "    \n",
    "    #append the results to the list\n",
    "    model_time.append(modelc_runtime)\n",
    "    \n",
    "    print(\"Optimization Finished!\")\n",
    "\n",
    "    # Calculate accuracy for MNIST test images\n",
    "    modelc_accuracy = sess.run(accuracy, feed_dict={X: mnist.test.images,\n",
    "                                      y: mnist.test.labels})\n",
    "    model_accuracy.append(modelc_accuracy)\n",
    "    \n",
    "    print(\"Model A Test Accuracy:\", \\\n",
    "        sess.run(accuracy, feed_dict={X: mnist.test.images,\n",
    "                                      y: mnist.test.labels}))\n",
    "    "
   ]
  },
  {
   "cell_type": "markdown",
   "metadata": {},
   "source": [
    "# Model D"
   ]
  },
  {
   "cell_type": "code",
   "execution_count": 146,
   "metadata": {},
   "outputs": [],
   "source": [
    "# Model A Construction\n",
    "logits_d = multilayer_perceptron_d(X)\n",
    "\n",
    "# Define loss and optimizer\n",
    "loss_op = tf.reduce_mean(tf.nn.softmax_cross_entropy_with_logits(\n",
    "    logits=logits_d, labels=y))\n",
    "optimizer = tf.train.AdamOptimizer(learning_rate=learning_rate)\n",
    "train_op = optimizer.minimize(loss_op)\n",
    "\n",
    "# Evaluate model (with test logits, for dropout to be disabled)\n",
    "correct_pred = tf.equal(tf.argmax(logits_d, 1), tf.argmax(y, 1))\n",
    "accuracy = tf.reduce_mean(tf.cast(correct_pred, tf.float32))\n",
    "\n",
    "# Initialize the variables (i.e. assign their default value)\n",
    "init_d = tf.global_variables_initializer()"
   ]
  },
  {
   "cell_type": "code",
   "execution_count": 147,
   "metadata": {},
   "outputs": [
    {
     "name": "stdout",
     "output_type": "stream",
     "text": [
      "Wall time: 0 ns\n",
      "Step 1, Minibatch Loss= 323274.7500, Training Accuracy= 0.297\n",
      "Step 100, Minibatch Loss= 2332.8386, Training Accuracy= 0.844\n",
      "Step 200, Minibatch Loss= 1503.4697, Training Accuracy= 0.812\n",
      "Step 300, Minibatch Loss= 2263.0779, Training Accuracy= 0.820\n",
      "Step 400, Minibatch Loss= 477.3395, Training Accuracy= 0.836\n",
      "Step 500, Minibatch Loss= 336.1157, Training Accuracy= 0.836\n",
      "Optimization Finished!\n",
      "Model A Test Accuracy: 0.8586\n"
     ]
    }
   ],
   "source": [
    "%time\n",
    "\n",
    "# Train the data\n",
    "with tf.Session() as sess:\n",
    "    \n",
    "    # Run the initializer\n",
    "    sess.run(init_d)\n",
    "    \n",
    "    #initialize time\n",
    "    start_time = time.clock()\n",
    "    \n",
    "    for step in range(1, num_steps+1):\n",
    "        batch_x, batch_y = mnist.train.next_batch(batch_size)\n",
    "        # Run optimization op (backprop)\n",
    "        sess.run(train_op, feed_dict={X: batch_x, y: batch_y})\n",
    "        if step % display_step == 0 or step == 1:\n",
    "            # Calculate batch loss and accuracy\n",
    "            loss, acc = sess.run([loss_op, accuracy], feed_dict={X: batch_x,\n",
    "                                                                 y: batch_y})\n",
    "            print(\"Step \" + str(step) + \", Minibatch Loss= \" + \\\n",
    "                  \"{:.4f}\".format(loss) + \", Training Accuracy= \" + \\\n",
    "                  \"{:.3f}\".format(acc))\n",
    "    \n",
    "    #End Time\n",
    "    end_time = time.clock()\n",
    "\n",
    "    modeld_runtime = end_time - start_time\n",
    "    \n",
    "    #append the results to the list\n",
    "    model_time.append(modeld_runtime)\n",
    "    \n",
    "    print(\"Optimization Finished!\")\n",
    "\n",
    "    # Calculate accuracy for MNIST test images\n",
    "    modeld_accuracy = sess.run(accuracy, feed_dict={X: mnist.test.images,\n",
    "                                      y: mnist.test.labels})\n",
    "    model_accuracy.append(modeld_accuracy)\n",
    "    \n",
    "    print(\"Model A Test Accuracy:\", \\\n",
    "        sess.run(accuracy, feed_dict={X: mnist.test.images,\n",
    "                                      y: mnist.test.labels}))\n",
    "    "
   ]
  },
  {
   "cell_type": "markdown",
   "metadata": {},
   "source": [
    "# Final Results "
   ]
  },
  {
   "cell_type": "code",
   "execution_count": 148,
   "metadata": {},
   "outputs": [],
   "source": [
    "# Create results df starting off with Hidden Layers and Nodes\n",
    "hidden_layers = [2, 2, 5, 5]\n",
    "nodes = [20, 50, 20, 50]\n",
    "\n",
    "nodes = pd.DataFrame(nodes,\n",
    "                     columns=['Nodes per Layer'], \n",
    "                             index=['Model A','Model B','Model C','Model D'])\n",
    "hidden_layers = pd.DataFrame(hidden_layers, \n",
    "                             columns=['# of Hidden Layers'], \n",
    "                             index=['Model A','Model B','Model C','Model D'])\n",
    "results = hidden_layers\n",
    "results['Nodes per Layer'] = nodes['Nodes per Layer']\n",
    "\n",
    "# add processing time\n",
    "model_time = pd.DataFrame(model_time,\n",
    "                          columns=['Processing Time (seconds)'], \n",
    "                          index=['Model A','Model B','Model C','Model D'])\n",
    "results['Processing Time (seconds)'] = model_time['Processing Time (seconds)']\n",
    "\n",
    "# add test accuracy scores\n",
    "model_accuracy = pd.DataFrame(model_accuracy,\n",
    "                              columns=['Test Set Accuracy'], \n",
    "                              index=['Model A','Model B','Model C','Model D'])\n",
    "\n",
    "results['Test Set Accuracy'] = model_accuracy['Test Set Accuracy']"
   ]
  },
  {
   "cell_type": "code",
   "execution_count": 168,
   "metadata": {},
   "outputs": [
    {
     "data": {
      "text/plain": [
       "<matplotlib.axes._subplots.AxesSubplot at 0x2a388b47550>"
      ]
     },
     "execution_count": 168,
     "metadata": {},
     "output_type": "execute_result"
    },
    {
     "data": {
      "image/png": "[encoded data removed]",
      "text/plain": [
       "<Figure size 864x576 with 1 Axes>"
      ]
     },
     "metadata": {},
     "output_type": "display_data"
    }
   ],
   "source": [
    "plt.title('Model Processing Time (seconds)', fontsize=16)\n",
    "sns.barplot(x=results.index, y=results['Processing Time (seconds)'], data=results)"
   ]
  },
  {
   "cell_type": "code",
   "execution_count": 169,
   "metadata": {},
   "outputs": [
    {
     "data": {
      "text/plain": [
       "<matplotlib.axes._subplots.AxesSubplot at 0x2a389093588>"
      ]
     },
     "execution_count": 169,
     "metadata": {},
     "output_type": "execute_result"
    },
    {
     "data": {
      "image/png": "[encoded data removed]",
      "text/plain": [
       "<Figure size 864x576 with 1 Axes>"
      ]
     },
     "metadata": {},
     "output_type": "display_data"
    }
   ],
   "source": [
    "plt.title('Test Set Accuracy', fontsize=16)\n",
    "sns.barplot(x=results.index, y=results['Test Set Accuracy'], data=results)"
   ]
  },
  {
   "cell_type": "code",
   "execution_count": 152,
   "metadata": {},
   "outputs": [
    {
     "name": "stdout",
     "output_type": "stream",
     "text": [
      "Multilayer Perceptron Benchmark Experiment Results\n"
     ]
    },
    {
     "data": {
      "text/html": [
       "<div>\n",
       "<style scoped>\n",
       "    .dataframe tbody tr th:only-of-type {\n",
       "        vertical-align: middle;\n",
       "    }\n",
       "\n",
       "    .dataframe tbody tr th {\n",
       "        vertical-align: top;\n",
       "    }\n",
       "\n",
       "    .dataframe thead th {\n",
       "        text-align: right;\n",
       "    }\n",
       "</style>\n",
       "<table border=\"1\" class=\"dataframe\">\n",
       "  <thead>\n",
       "    <tr style=\"text-align: right;\">\n",
       "      <th></th>\n",
       "      <th># of Hidden Layers</th>\n",
       "      <th>Nodes per Layer</th>\n",
       "      <th>Processing Time (seconds)</th>\n",
       "      <th>Test Set Accuracy</th>\n",
       "    </tr>\n",
       "  </thead>\n",
       "  <tbody>\n",
       "    <tr>\n",
       "      <th>Model A</th>\n",
       "      <td>2</td>\n",
       "      <td>20</td>\n",
       "      <td>0.588576</td>\n",
       "      <td>0.8582</td>\n",
       "    </tr>\n",
       "    <tr>\n",
       "      <th>Model B</th>\n",
       "      <td>2</td>\n",
       "      <td>50</td>\n",
       "      <td>0.564457</td>\n",
       "      <td>0.8562</td>\n",
       "    </tr>\n",
       "    <tr>\n",
       "      <th>Model C</th>\n",
       "      <td>5</td>\n",
       "      <td>20</td>\n",
       "      <td>0.594847</td>\n",
       "      <td>0.8151</td>\n",
       "    </tr>\n",
       "    <tr>\n",
       "      <th>Model D</th>\n",
       "      <td>5</td>\n",
       "      <td>50</td>\n",
       "      <td>0.690888</td>\n",
       "      <td>0.8586</td>\n",
       "    </tr>\n",
       "  </tbody>\n",
       "</table>\n",
       "</div>"
      ],
      "text/plain": [
       "         # of Hidden Layers  Nodes per Layer  Processing Time (seconds)  \\\n",
       "Model A                   2               20                   0.588576   \n",
       "Model B                   2               50                   0.564457   \n",
       "Model C                   5               20                   0.594847   \n",
       "Model D                   5               50                   0.690888   \n",
       "\n",
       "         Test Set Accuracy  \n",
       "Model A             0.8582  \n",
       "Model B             0.8562  \n",
       "Model C             0.8151  \n",
       "Model D             0.8586  "
      ]
     },
     "execution_count": 152,
     "metadata": {},
     "output_type": "execute_result"
    }
   ],
   "source": [
    "print(\"Multilayer Perceptron Benchmark Experiment Results\")\n",
    "results"
   ]
  }
 ],
 "metadata": {
  "kernelspec": {
   "display_name": "Python 3",
   "language": "python",
   "name": "python3"
  },
  "language_info": {
   "codemirror_mode": {
    "name": "ipython",
    "version": 3
   },
   "file_extension": ".py",
   "mimetype": "text/x-python",
   "name": "python",
   "nbconvert_exporter": "python",
   "pygments_lexer": "ipython3",
   "version": "3.7.3"
  }
 },
 "nbformat": 4,
 "nbformat_minor": 2
}
